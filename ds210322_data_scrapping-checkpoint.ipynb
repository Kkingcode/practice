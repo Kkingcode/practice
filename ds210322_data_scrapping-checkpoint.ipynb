{
 "cells": [
  {
   "cell_type": "code",
   "execution_count": 3,
   "id": "57f6c183",
   "metadata": {},
   "outputs": [],
   "source": [
    "import pandas as pd"
   ]
  },
  {
   "cell_type": "code",
   "execution_count": 6,
   "id": "6ac76564",
   "metadata": {},
   "outputs": [
    {
     "data": {
      "text/html": [
       "<div>\n",
       "<style scoped>\n",
       "    .dataframe tbody tr th:only-of-type {\n",
       "        vertical-align: middle;\n",
       "    }\n",
       "\n",
       "    .dataframe tbody tr th {\n",
       "        vertical-align: top;\n",
       "    }\n",
       "\n",
       "    .dataframe thead th {\n",
       "        text-align: right;\n",
       "    }\n",
       "</style>\n",
       "<table border=\"1\" class=\"dataframe\">\n",
       "  <thead>\n",
       "    <tr style=\"text-align: right;\">\n",
       "      <th></th>\n",
       "      <th>1990</th>\n",
       "      <th>1000</th>\n",
       "    </tr>\n",
       "  </thead>\n",
       "  <tbody>\n",
       "    <tr>\n",
       "      <th>0</th>\n",
       "      <td>1994</td>\n",
       "      <td>560</td>\n",
       "    </tr>\n",
       "    <tr>\n",
       "      <th>1</th>\n",
       "      <td>1997</td>\n",
       "      <td>720</td>\n",
       "    </tr>\n",
       "    <tr>\n",
       "      <th>2</th>\n",
       "      <td>2001</td>\n",
       "      <td>202</td>\n",
       "    </tr>\n",
       "    <tr>\n",
       "      <th>3</th>\n",
       "      <td>2010</td>\n",
       "      <td>450</td>\n",
       "    </tr>\n",
       "    <tr>\n",
       "      <th>4</th>\n",
       "      <td>2017</td>\n",
       "      <td>322</td>\n",
       "    </tr>\n",
       "    <tr>\n",
       "      <th>5</th>\n",
       "      <td>2014</td>\n",
       "      <td>650</td>\n",
       "    </tr>\n",
       "  </tbody>\n",
       "</table>\n",
       "</div>"
      ],
      "text/plain": [
       "   1990   1000\n",
       "0  1994    560\n",
       "1  1997    720\n",
       "2  2001    202\n",
       "3  2010    450\n",
       "4  2017    322\n",
       "5  2014    650"
      ]
     },
     "execution_count": 6,
     "metadata": {},
     "output_type": "execute_result"
    }
   ],
   "source": [
    "df = pd.read_csv(\"C:/data2.txt\") \n",
    "df"
   ]
  },
  {
   "cell_type": "markdown",
   "id": "afa8a8c4",
   "metadata": {},
   "source": [
    "# Another Methods to read text file"
   ]
  },
  {
   "cell_type": "code",
   "execution_count": 8,
   "id": "adb1e45e",
   "metadata": {},
   "outputs": [
    {
     "data": {
      "text/html": [
       "<div>\n",
       "<style scoped>\n",
       "    .dataframe tbody tr th:only-of-type {\n",
       "        vertical-align: middle;\n",
       "    }\n",
       "\n",
       "    .dataframe tbody tr th {\n",
       "        vertical-align: top;\n",
       "    }\n",
       "\n",
       "    .dataframe thead th {\n",
       "        text-align: right;\n",
       "    }\n",
       "</style>\n",
       "<table border=\"1\" class=\"dataframe\">\n",
       "  <thead>\n",
       "    <tr style=\"text-align: right;\">\n",
       "      <th></th>\n",
       "      <th>1990, 1000</th>\n",
       "    </tr>\n",
       "  </thead>\n",
       "  <tbody>\n",
       "    <tr>\n",
       "      <th>0</th>\n",
       "      <td>1994, 560</td>\n",
       "    </tr>\n",
       "    <tr>\n",
       "      <th>1</th>\n",
       "      <td>1997, 720</td>\n",
       "    </tr>\n",
       "    <tr>\n",
       "      <th>2</th>\n",
       "      <td>2001, 202</td>\n",
       "    </tr>\n",
       "    <tr>\n",
       "      <th>3</th>\n",
       "      <td>2010, 450</td>\n",
       "    </tr>\n",
       "    <tr>\n",
       "      <th>4</th>\n",
       "      <td>2017, 322</td>\n",
       "    </tr>\n",
       "    <tr>\n",
       "      <th>5</th>\n",
       "      <td>2014, 650</td>\n",
       "    </tr>\n",
       "  </tbody>\n",
       "</table>\n",
       "</div>"
      ],
      "text/plain": [
       "  1990, 1000\n",
       "0  1994, 560\n",
       "1  1997, 720\n",
       "2  2001, 202\n",
       "3  2010, 450\n",
       "4  2017, 322\n",
       "5  2014, 650"
      ]
     },
     "execution_count": 8,
     "metadata": {},
     "output_type": "execute_result"
    }
   ],
   "source": [
    "data = pd.read_table(\"C:/Users/OLA/Documents/Data/data2.txt\") # _table can also replace _csv\n",
    "data"
   ]
  },
  {
   "cell_type": "markdown",
   "id": "a4e4fc7d",
   "metadata": {},
   "source": [
    "# To connect from the site dirrectly without downloading the file "
   ]
  },
  {
   "cell_type": "code",
   "execution_count": 43,
   "id": "1c22f78c",
   "metadata": {},
   "outputs": [
    {
     "name": "stdout",
     "output_type": "stream",
     "text": [
      "Collecting html5lib\n",
      "  Downloading html5lib-1.1-py2.py3-none-any.whl (112 kB)\n",
      "     ------------------------------------ 112.2/112.2 kB 145.0 kB/s eta 0:00:00\n",
      "Requirement already satisfied: six>=1.9 in c:\\users\\ola\\anaconda3\\lib\\site-packages (from html5lib) (1.16.0)\n",
      "Requirement already satisfied: webencodings in c:\\users\\ola\\anaconda3\\lib\\site-packages (from html5lib) (0.5.1)\n",
      "Installing collected packages: html5lib\n",
      "Successfully installed html5lib-1.1\n",
      "Note: you may need to restart the kernel to use updated packages.\n"
     ]
    }
   ],
   "source": [
    "pip install html5lib"
   ]
  },
  {
   "cell_type": "code",
   "execution_count": 10,
   "id": "0fd4fef4",
   "metadata": {},
   "outputs": [
    {
     "data": {
      "text/html": [
       "<div>\n",
       "<style scoped>\n",
       "    .dataframe tbody tr th:only-of-type {\n",
       "        vertical-align: middle;\n",
       "    }\n",
       "\n",
       "    .dataframe tbody tr th {\n",
       "        vertical-align: top;\n",
       "    }\n",
       "\n",
       "    .dataframe thead th {\n",
       "        text-align: right;\n",
       "    }\n",
       "</style>\n",
       "<table border=\"1\" class=\"dataframe\">\n",
       "  <thead>\n",
       "    <tr style=\"text-align: right;\">\n",
       "      <th></th>\n",
       "      <th>Rank</th>\n",
       "      <th>Nation</th>\n",
       "      <th>Gold</th>\n",
       "      <th>Silver</th>\n",
       "      <th>Bronze</th>\n",
       "      <th>Total</th>\n",
       "    </tr>\n",
       "  </thead>\n",
       "  <tbody>\n",
       "    <tr>\n",
       "      <th>0</th>\n",
       "      <td>1</td>\n",
       "      <td>Norway</td>\n",
       "      <td>13</td>\n",
       "      <td>5</td>\n",
       "      <td>7</td>\n",
       "      <td>25</td>\n",
       "    </tr>\n",
       "    <tr>\n",
       "      <th>1</th>\n",
       "      <td>2</td>\n",
       "      <td>Germany</td>\n",
       "      <td>12</td>\n",
       "      <td>16</td>\n",
       "      <td>8</td>\n",
       "      <td>36</td>\n",
       "    </tr>\n",
       "    <tr>\n",
       "      <th>2</th>\n",
       "      <td>3</td>\n",
       "      <td>United States*</td>\n",
       "      <td>10</td>\n",
       "      <td>13</td>\n",
       "      <td>11</td>\n",
       "      <td>34</td>\n",
       "    </tr>\n",
       "    <tr>\n",
       "      <th>3</th>\n",
       "      <td>4</td>\n",
       "      <td>Canada</td>\n",
       "      <td>7</td>\n",
       "      <td>3</td>\n",
       "      <td>7</td>\n",
       "      <td>17</td>\n",
       "    </tr>\n",
       "    <tr>\n",
       "      <th>4</th>\n",
       "      <td>5</td>\n",
       "      <td>Russia</td>\n",
       "      <td>5</td>\n",
       "      <td>4</td>\n",
       "      <td>4</td>\n",
       "      <td>13</td>\n",
       "    </tr>\n",
       "  </tbody>\n",
       "</table>\n",
       "</div>"
      ],
      "text/plain": [
       "  Rank          Nation  Gold  Silver  Bronze  Total\n",
       "0    1          Norway    13       5       7     25\n",
       "1    2         Germany    12      16       8     36\n",
       "2    3  United States*    10      13      11     34\n",
       "3    4          Canada     7       3       7     17\n",
       "4    5          Russia     5       4       4     13"
      ]
     },
     "execution_count": 10,
     "metadata": {},
     "output_type": "execute_result"
    }
   ],
   "source": [
    "url = \"https://en.wikipedia.org/wiki/2002_Winter_Olympics_medal_table\"\n",
    "list_of_df = pd.read_html(url)\n",
    "medal_table = list_of_df[3]\n",
    "medal_table.set_index('Rank')\n",
    "medal_table.head()"
   ]
  },
  {
   "cell_type": "markdown",
   "id": "71e57756",
   "metadata": {},
   "source": [
    "# Another Methods to check the attribute of all the table in the website"
   ]
  },
  {
   "cell_type": "code",
   "execution_count": null,
   "id": "10b56ec4",
   "metadata": {},
   "outputs": [],
   "source": [
    "medal_table = list_of_df"
   ]
  },
  {
   "cell_type": "code",
   "execution_count": 11,
   "id": "f67cfcaf",
   "metadata": {},
   "outputs": [
    {
     "data": {
      "text/html": [
       "<div>\n",
       "<style scoped>\n",
       "    .dataframe tbody tr th:only-of-type {\n",
       "        vertical-align: middle;\n",
       "    }\n",
       "\n",
       "    .dataframe tbody tr th {\n",
       "        vertical-align: top;\n",
       "    }\n",
       "\n",
       "    .dataframe thead th {\n",
       "        text-align: right;\n",
       "    }\n",
       "</style>\n",
       "<table border=\"1\" class=\"dataframe\">\n",
       "  <thead>\n",
       "    <tr style=\"text-align: right;\">\n",
       "      <th></th>\n",
       "      <th>Gold</th>\n",
       "      <th>Silver</th>\n",
       "      <th>Bronze</th>\n",
       "      <th>Total</th>\n",
       "    </tr>\n",
       "  </thead>\n",
       "  <tbody>\n",
       "    <tr>\n",
       "      <th>count</th>\n",
       "      <td>25.000000</td>\n",
       "      <td>25.000000</td>\n",
       "      <td>25.000000</td>\n",
       "      <td>25.0000</td>\n",
       "    </tr>\n",
       "    <tr>\n",
       "      <th>mean</th>\n",
       "      <td>6.400000</td>\n",
       "      <td>6.080000</td>\n",
       "      <td>6.240000</td>\n",
       "      <td>18.7200</td>\n",
       "    </tr>\n",
       "    <tr>\n",
       "      <th>std</th>\n",
       "      <td>15.761239</td>\n",
       "      <td>15.052464</td>\n",
       "      <td>15.311434</td>\n",
       "      <td>45.8862</td>\n",
       "    </tr>\n",
       "    <tr>\n",
       "      <th>min</th>\n",
       "      <td>0.000000</td>\n",
       "      <td>0.000000</td>\n",
       "      <td>0.000000</td>\n",
       "      <td>1.0000</td>\n",
       "    </tr>\n",
       "    <tr>\n",
       "      <th>25%</th>\n",
       "      <td>1.000000</td>\n",
       "      <td>1.000000</td>\n",
       "      <td>1.000000</td>\n",
       "      <td>3.0000</td>\n",
       "    </tr>\n",
       "    <tr>\n",
       "      <th>50%</th>\n",
       "      <td>3.000000</td>\n",
       "      <td>2.000000</td>\n",
       "      <td>2.000000</td>\n",
       "      <td>7.0000</td>\n",
       "    </tr>\n",
       "    <tr>\n",
       "      <th>75%</th>\n",
       "      <td>4.000000</td>\n",
       "      <td>4.000000</td>\n",
       "      <td>6.000000</td>\n",
       "      <td>13.0000</td>\n",
       "    </tr>\n",
       "    <tr>\n",
       "      <th>max</th>\n",
       "      <td>80.000000</td>\n",
       "      <td>76.000000</td>\n",
       "      <td>78.000000</td>\n",
       "      <td>234.0000</td>\n",
       "    </tr>\n",
       "  </tbody>\n",
       "</table>\n",
       "</div>"
      ],
      "text/plain": [
       "            Gold     Silver     Bronze     Total\n",
       "count  25.000000  25.000000  25.000000   25.0000\n",
       "mean    6.400000   6.080000   6.240000   18.7200\n",
       "std    15.761239  15.052464  15.311434   45.8862\n",
       "min     0.000000   0.000000   0.000000    1.0000\n",
       "25%     1.000000   1.000000   1.000000    3.0000\n",
       "50%     3.000000   2.000000   2.000000    7.0000\n",
       "75%     4.000000   4.000000   6.000000   13.0000\n",
       "max    80.000000  76.000000  78.000000  234.0000"
      ]
     },
     "execution_count": 11,
     "metadata": {},
     "output_type": "execute_result"
    }
   ],
   "source": [
    "medal_table.describe()"
   ]
  },
  {
   "cell_type": "code",
   "execution_count": 12,
   "id": "ef27435f",
   "metadata": {},
   "outputs": [
    {
     "data": {
      "text/html": [
       "<div>\n",
       "<style scoped>\n",
       "    .dataframe tbody tr th:only-of-type {\n",
       "        vertical-align: middle;\n",
       "    }\n",
       "\n",
       "    .dataframe tbody tr th {\n",
       "        vertical-align: top;\n",
       "    }\n",
       "\n",
       "    .dataframe thead th {\n",
       "        text-align: right;\n",
       "    }\n",
       "</style>\n",
       "<table border=\"1\" class=\"dataframe\">\n",
       "  <thead>\n",
       "    <tr style=\"text-align: right;\">\n",
       "      <th></th>\n",
       "      <th>Rank</th>\n",
       "      <th>NOC</th>\n",
       "      <th>Gold</th>\n",
       "      <th>Silver</th>\n",
       "      <th>Bronze</th>\n",
       "      <th>Total</th>\n",
       "    </tr>\n",
       "  </thead>\n",
       "  <tbody>\n",
       "    <tr>\n",
       "      <th>0</th>\n",
       "      <td>1</td>\n",
       "      <td>United States</td>\n",
       "      <td>46</td>\n",
       "      <td>37</td>\n",
       "      <td>38</td>\n",
       "      <td>121</td>\n",
       "    </tr>\n",
       "    <tr>\n",
       "      <th>1</th>\n",
       "      <td>2</td>\n",
       "      <td>Great Britain</td>\n",
       "      <td>27</td>\n",
       "      <td>23</td>\n",
       "      <td>17</td>\n",
       "      <td>67</td>\n",
       "    </tr>\n",
       "    <tr>\n",
       "      <th>2</th>\n",
       "      <td>3</td>\n",
       "      <td>China</td>\n",
       "      <td>26</td>\n",
       "      <td>18</td>\n",
       "      <td>26</td>\n",
       "      <td>70</td>\n",
       "    </tr>\n",
       "    <tr>\n",
       "      <th>3</th>\n",
       "      <td>4</td>\n",
       "      <td>Russia</td>\n",
       "      <td>19</td>\n",
       "      <td>17</td>\n",
       "      <td>20</td>\n",
       "      <td>56</td>\n",
       "    </tr>\n",
       "    <tr>\n",
       "      <th>4</th>\n",
       "      <td>5</td>\n",
       "      <td>Germany</td>\n",
       "      <td>17</td>\n",
       "      <td>10</td>\n",
       "      <td>15</td>\n",
       "      <td>42</td>\n",
       "    </tr>\n",
       "  </tbody>\n",
       "</table>\n",
       "</div>"
      ],
      "text/plain": [
       "  Rank            NOC  Gold  Silver  Bronze  Total\n",
       "0    1  United States    46      37      38    121\n",
       "1    2  Great Britain    27      23      17     67\n",
       "2    3          China    26      18      26     70\n",
       "3    4         Russia    19      17      20     56\n",
       "4    5        Germany    17      10      15     42"
      ]
     },
     "execution_count": 12,
     "metadata": {},
     "output_type": "execute_result"
    }
   ],
   "source": [
    "url = \"https://en.wikipedia.org/wiki/2016_Summer_Olympics_medal_table\"\n",
    "list_of_df = pd.read_html(url)\n",
    "medal_table = list_of_df[3]\n",
    "medal_table.set_index('Rank')\n",
    "medal_table.head()"
   ]
  },
  {
   "cell_type": "markdown",
   "id": "35b0cb95",
   "metadata": {},
   "source": [
    "# How to locate Nigeria details from the online data frame"
   ]
  },
  {
   "cell_type": "code",
   "execution_count": 14,
   "id": "46987a5f",
   "metadata": {},
   "outputs": [
    {
     "data": {
      "text/html": [
       "<div>\n",
       "<style scoped>\n",
       "    .dataframe tbody tr th:only-of-type {\n",
       "        vertical-align: middle;\n",
       "    }\n",
       "\n",
       "    .dataframe tbody tr th {\n",
       "        vertical-align: top;\n",
       "    }\n",
       "\n",
       "    .dataframe thead th {\n",
       "        text-align: right;\n",
       "    }\n",
       "</style>\n",
       "<table border=\"1\" class=\"dataframe\">\n",
       "  <thead>\n",
       "    <tr style=\"text-align: right;\">\n",
       "      <th></th>\n",
       "      <th>Rank</th>\n",
       "      <th>NOC</th>\n",
       "      <th>Gold</th>\n",
       "      <th>Silver</th>\n",
       "      <th>Bronze</th>\n",
       "      <th>Total</th>\n",
       "    </tr>\n",
       "  </thead>\n",
       "  <tbody>\n",
       "    <tr>\n",
       "      <th>82</th>\n",
       "      <td>78</td>\n",
       "      <td>Nigeria</td>\n",
       "      <td>0</td>\n",
       "      <td>0</td>\n",
       "      <td>1</td>\n",
       "      <td>1</td>\n",
       "    </tr>\n",
       "  </tbody>\n",
       "</table>\n",
       "</div>"
      ],
      "text/plain": [
       "   Rank      NOC  Gold  Silver  Bronze  Total\n",
       "82   78  Nigeria     0       0       1      1"
      ]
     },
     "execution_count": 14,
     "metadata": {},
     "output_type": "execute_result"
    }
   ],
   "source": [
    "medal_table[medal_table['NOC'] == 'Nigeria']"
   ]
  },
  {
   "cell_type": "code",
   "execution_count": 15,
   "id": "9be1df5e",
   "metadata": {},
   "outputs": [
    {
     "data": {
      "text/html": [
       "<div>\n",
       "<style scoped>\n",
       "    .dataframe tbody tr th:only-of-type {\n",
       "        vertical-align: middle;\n",
       "    }\n",
       "\n",
       "    .dataframe tbody tr th {\n",
       "        vertical-align: top;\n",
       "    }\n",
       "\n",
       "    .dataframe thead th {\n",
       "        text-align: right;\n",
       "    }\n",
       "</style>\n",
       "<table border=\"1\" class=\"dataframe\">\n",
       "  <thead>\n",
       "    <tr style=\"text-align: right;\">\n",
       "      <th></th>\n",
       "      <th>Rank</th>\n",
       "      <th>NOC</th>\n",
       "      <th>Gold</th>\n",
       "      <th>Silver</th>\n",
       "      <th>Bronze</th>\n",
       "      <th>Total</th>\n",
       "    </tr>\n",
       "  </thead>\n",
       "  <tbody>\n",
       "    <tr>\n",
       "      <th>4</th>\n",
       "      <td>5</td>\n",
       "      <td>Germany</td>\n",
       "      <td>17</td>\n",
       "      <td>10</td>\n",
       "      <td>15</td>\n",
       "      <td>42</td>\n",
       "    </tr>\n",
       "  </tbody>\n",
       "</table>\n",
       "</div>"
      ],
      "text/plain": [
       "  Rank      NOC  Gold  Silver  Bronze  Total\n",
       "4    5  Germany    17      10      15     42"
      ]
     },
     "execution_count": 15,
     "metadata": {},
     "output_type": "execute_result"
    }
   ],
   "source": [
    "medal_table[medal_table['NOC'] == 'Germany']"
   ]
  },
  {
   "cell_type": "code",
   "execution_count": 19,
   "id": "c74cd58d",
   "metadata": {},
   "outputs": [],
   "source": [
    "def search_medal_rank(country_name):\n",
    "    return medal_table[medal_table['NOC'] == country_name.title()]"
   ]
  },
  {
   "cell_type": "code",
   "execution_count": 22,
   "id": "d6a3ea35",
   "metadata": {},
   "outputs": [
    {
     "name": "stdout",
     "output_type": "stream",
     "text": [
      "Enter Country Name: russia\n",
      "  Rank     NOC  Gold  Silver  Bronze  Total\n",
      "3    4  Russia    19      17      20     56\n"
     ]
    }
   ],
   "source": [
    "name = input(\"Enter Country Name: \")\n",
    "res_data = search_medal_rank(name)\n",
    "\n",
    "print(res_data)"
   ]
  },
  {
   "cell_type": "code",
   "execution_count": 23,
   "id": "53f86807",
   "metadata": {},
   "outputs": [],
   "source": [
    "import numpy as np\n",
    "import pandas as pd"
   ]
  },
  {
   "cell_type": "code",
   "execution_count": 28,
   "id": "57fd8a7a",
   "metadata": {},
   "outputs": [
    {
     "data": {
      "text/html": [
       "<div>\n",
       "<style scoped>\n",
       "    .dataframe tbody tr th:only-of-type {\n",
       "        vertical-align: middle;\n",
       "    }\n",
       "\n",
       "    .dataframe tbody tr th {\n",
       "        vertical-align: top;\n",
       "    }\n",
       "\n",
       "    .dataframe thead th {\n",
       "        text-align: right;\n",
       "    }\n",
       "</style>\n",
       "<table border=\"1\" class=\"dataframe\">\n",
       "  <thead>\n",
       "    <tr style=\"text-align: right;\">\n",
       "      <th></th>\n",
       "      <th>title</th>\n",
       "      <th>year</th>\n",
       "      <th>cast</th>\n",
       "      <th>genres</th>\n",
       "    </tr>\n",
       "  </thead>\n",
       "  <tbody>\n",
       "    <tr>\n",
       "      <th>0</th>\n",
       "      <td>After Dark in Central Park</td>\n",
       "      <td>1900</td>\n",
       "      <td>[]</td>\n",
       "      <td>[]</td>\n",
       "    </tr>\n",
       "    <tr>\n",
       "      <th>1</th>\n",
       "      <td>Boarding School Girls' Pajama Parade</td>\n",
       "      <td>1900</td>\n",
       "      <td>[]</td>\n",
       "      <td>[]</td>\n",
       "    </tr>\n",
       "    <tr>\n",
       "      <th>2</th>\n",
       "      <td>Buffalo Bill's Wild West Parad</td>\n",
       "      <td>1900</td>\n",
       "      <td>[]</td>\n",
       "      <td>[]</td>\n",
       "    </tr>\n",
       "    <tr>\n",
       "      <th>3</th>\n",
       "      <td>Caught</td>\n",
       "      <td>1900</td>\n",
       "      <td>[]</td>\n",
       "      <td>[]</td>\n",
       "    </tr>\n",
       "    <tr>\n",
       "      <th>4</th>\n",
       "      <td>Clowns Spinning Hats</td>\n",
       "      <td>1900</td>\n",
       "      <td>[]</td>\n",
       "      <td>[]</td>\n",
       "    </tr>\n",
       "    <tr>\n",
       "      <th>...</th>\n",
       "      <td>...</td>\n",
       "      <td>...</td>\n",
       "      <td>...</td>\n",
       "      <td>...</td>\n",
       "    </tr>\n",
       "    <tr>\n",
       "      <th>28790</th>\n",
       "      <td>Bumblebee</td>\n",
       "      <td>2018</td>\n",
       "      <td>[Hailee Steinfeld, John Cena, Jorge Lendeborg ...</td>\n",
       "      <td>[Action, Adventure, Science Fiction]</td>\n",
       "    </tr>\n",
       "    <tr>\n",
       "      <th>28791</th>\n",
       "      <td>Welcome to Marwen</td>\n",
       "      <td>2018</td>\n",
       "      <td>[Steve Carell, Leslie Mann, Diane Kruger, Falk...</td>\n",
       "      <td>[Fantasy, Drama]</td>\n",
       "    </tr>\n",
       "    <tr>\n",
       "      <th>28792</th>\n",
       "      <td>Holmes and Watson</td>\n",
       "      <td>2018</td>\n",
       "      <td>[Will Ferrell, John C. Reilly, Rebecca Hall, R...</td>\n",
       "      <td>[Action, Mystery, Comedy]</td>\n",
       "    </tr>\n",
       "    <tr>\n",
       "      <th>28793</th>\n",
       "      <td>On the Basis of Sex</td>\n",
       "      <td>2018</td>\n",
       "      <td>[Felicity Jones, Armie Hammer, Justin Theroux,...</td>\n",
       "      <td>[Biography, Drama]</td>\n",
       "    </tr>\n",
       "    <tr>\n",
       "      <th>28794</th>\n",
       "      <td>Destroyer</td>\n",
       "      <td>2018</td>\n",
       "      <td>[Nicole Kidman, Tatiana Maslany, Sebastian Sta...</td>\n",
       "      <td>[Crime, Thriller]</td>\n",
       "    </tr>\n",
       "  </tbody>\n",
       "</table>\n",
       "<p>28795 rows × 4 columns</p>\n",
       "</div>"
      ],
      "text/plain": [
       "                                      title  year  \\\n",
       "0                After Dark in Central Park  1900   \n",
       "1      Boarding School Girls' Pajama Parade  1900   \n",
       "2            Buffalo Bill's Wild West Parad  1900   \n",
       "3                                    Caught  1900   \n",
       "4                      Clowns Spinning Hats  1900   \n",
       "...                                     ...   ...   \n",
       "28790                             Bumblebee  2018   \n",
       "28791                     Welcome to Marwen  2018   \n",
       "28792                     Holmes and Watson  2018   \n",
       "28793                   On the Basis of Sex  2018   \n",
       "28794                             Destroyer  2018   \n",
       "\n",
       "                                                    cast  \\\n",
       "0                                                     []   \n",
       "1                                                     []   \n",
       "2                                                     []   \n",
       "3                                                     []   \n",
       "4                                                     []   \n",
       "...                                                  ...   \n",
       "28790  [Hailee Steinfeld, John Cena, Jorge Lendeborg ...   \n",
       "28791  [Steve Carell, Leslie Mann, Diane Kruger, Falk...   \n",
       "28792  [Will Ferrell, John C. Reilly, Rebecca Hall, R...   \n",
       "28793  [Felicity Jones, Armie Hammer, Justin Theroux,...   \n",
       "28794  [Nicole Kidman, Tatiana Maslany, Sebastian Sta...   \n",
       "\n",
       "                                     genres  \n",
       "0                                        []  \n",
       "1                                        []  \n",
       "2                                        []  \n",
       "3                                        []  \n",
       "4                                        []  \n",
       "...                                     ...  \n",
       "28790  [Action, Adventure, Science Fiction]  \n",
       "28791                      [Fantasy, Drama]  \n",
       "28792             [Action, Mystery, Comedy]  \n",
       "28793                    [Biography, Drama]  \n",
       "28794                     [Crime, Thriller]  \n",
       "\n",
       "[28795 rows x 4 columns]"
      ]
     },
     "execution_count": 28,
     "metadata": {},
     "output_type": "execute_result"
    }
   ],
   "source": [
    "j_data = pd.read_json('C:/Users/OLA/Documents/Data/movies.json')\n",
    "j_data"
   ]
  },
  {
   "cell_type": "code",
   "execution_count": 30,
   "id": "d239bbb9",
   "metadata": {},
   "outputs": [
    {
     "data": {
      "text/html": [
       "<div>\n",
       "<style scoped>\n",
       "    .dataframe tbody tr th:only-of-type {\n",
       "        vertical-align: middle;\n",
       "    }\n",
       "\n",
       "    .dataframe tbody tr th {\n",
       "        vertical-align: top;\n",
       "    }\n",
       "\n",
       "    .dataframe thead th {\n",
       "        text-align: right;\n",
       "    }\n",
       "</style>\n",
       "<table border=\"1\" class=\"dataframe\">\n",
       "  <thead>\n",
       "    <tr style=\"text-align: right;\">\n",
       "      <th></th>\n",
       "      <th>title</th>\n",
       "      <th>year</th>\n",
       "      <th>cast</th>\n",
       "      <th>genres</th>\n",
       "    </tr>\n",
       "  </thead>\n",
       "  <tbody>\n",
       "    <tr>\n",
       "      <th>0</th>\n",
       "      <td>After Dark in Central Park</td>\n",
       "      <td>1900</td>\n",
       "      <td>[]</td>\n",
       "      <td>[]</td>\n",
       "    </tr>\n",
       "    <tr>\n",
       "      <th>1</th>\n",
       "      <td>Boarding School Girls' Pajama Parade</td>\n",
       "      <td>1900</td>\n",
       "      <td>[]</td>\n",
       "      <td>[]</td>\n",
       "    </tr>\n",
       "    <tr>\n",
       "      <th>2</th>\n",
       "      <td>Buffalo Bill's Wild West Parad</td>\n",
       "      <td>1900</td>\n",
       "      <td>[]</td>\n",
       "      <td>[]</td>\n",
       "    </tr>\n",
       "    <tr>\n",
       "      <th>3</th>\n",
       "      <td>Caught</td>\n",
       "      <td>1900</td>\n",
       "      <td>[]</td>\n",
       "      <td>[]</td>\n",
       "    </tr>\n",
       "    <tr>\n",
       "      <th>4</th>\n",
       "      <td>Clowns Spinning Hats</td>\n",
       "      <td>1900</td>\n",
       "      <td>[]</td>\n",
       "      <td>[]</td>\n",
       "    </tr>\n",
       "  </tbody>\n",
       "</table>\n",
       "</div>"
      ],
      "text/plain": [
       "                                  title  year cast genres\n",
       "0            After Dark in Central Park  1900   []     []\n",
       "1  Boarding School Girls' Pajama Parade  1900   []     []\n",
       "2        Buffalo Bill's Wild West Parad  1900   []     []\n",
       "3                                Caught  1900   []     []\n",
       "4                  Clowns Spinning Hats  1900   []     []"
      ]
     },
     "execution_count": 30,
     "metadata": {},
     "output_type": "execute_result"
    }
   ],
   "source": [
    "j_data.head()"
   ]
  },
  {
   "cell_type": "code",
   "execution_count": 33,
   "id": "bbd1e854",
   "metadata": {},
   "outputs": [
    {
     "data": {
      "text/html": [
       "<div>\n",
       "<style scoped>\n",
       "    .dataframe tbody tr th:only-of-type {\n",
       "        vertical-align: middle;\n",
       "    }\n",
       "\n",
       "    .dataframe tbody tr th {\n",
       "        vertical-align: top;\n",
       "    }\n",
       "\n",
       "    .dataframe thead th {\n",
       "        text-align: right;\n",
       "    }\n",
       "</style>\n",
       "<table border=\"1\" class=\"dataframe\">\n",
       "  <thead>\n",
       "    <tr style=\"text-align: right;\">\n",
       "      <th></th>\n",
       "      <th>title</th>\n",
       "      <th>year</th>\n",
       "      <th>cast</th>\n",
       "      <th>genres</th>\n",
       "    </tr>\n",
       "  </thead>\n",
       "  <tbody>\n",
       "    <tr>\n",
       "      <th>13519</th>\n",
       "      <td>The Avengers</td>\n",
       "      <td>1950</td>\n",
       "      <td>[Adele Mara, John Carroll]</td>\n",
       "      <td>[Adventure]</td>\n",
       "    </tr>\n",
       "    <tr>\n",
       "      <th>23778</th>\n",
       "      <td>The Avengers</td>\n",
       "      <td>1998</td>\n",
       "      <td>[Ralph Fiennes, Uma Thurman, Sean Connery, Jim...</td>\n",
       "      <td>[Action]</td>\n",
       "    </tr>\n",
       "    <tr>\n",
       "      <th>27195</th>\n",
       "      <td>The Avengers</td>\n",
       "      <td>2012</td>\n",
       "      <td>[Robert Downey, Jr., Chris Evans, Mark Ruffalo...</td>\n",
       "      <td>[Superhero]</td>\n",
       "    </tr>\n",
       "  </tbody>\n",
       "</table>\n",
       "</div>"
      ],
      "text/plain": [
       "              title  year                                               cast  \\\n",
       "13519  The Avengers  1950                         [Adele Mara, John Carroll]   \n",
       "23778  The Avengers  1998  [Ralph Fiennes, Uma Thurman, Sean Connery, Jim...   \n",
       "27195  The Avengers  2012  [Robert Downey, Jr., Chris Evans, Mark Ruffalo...   \n",
       "\n",
       "            genres  \n",
       "13519  [Adventure]  \n",
       "23778     [Action]  \n",
       "27195  [Superhero]  "
      ]
     },
     "execution_count": 33,
     "metadata": {},
     "output_type": "execute_result"
    }
   ],
   "source": [
    "# To look for the cast where the title is 'The Avengers'\n",
    "\n",
    "\n",
    "res_title = j_data[j_data['title'] == 'The Avengers']\n",
    "res_title"
   ]
  },
  {
   "cell_type": "code",
   "execution_count": 34,
   "id": "a91046d1",
   "metadata": {},
   "outputs": [
    {
     "data": {
      "text/plain": [
       "13519                           [Adele Mara, John Carroll]\n",
       "23778    [Ralph Fiennes, Uma Thurman, Sean Connery, Jim...\n",
       "27195    [Robert Downey, Jr., Chris Evans, Mark Ruffalo...\n",
       "Name: cast, dtype: object"
      ]
     },
     "execution_count": 34,
     "metadata": {},
     "output_type": "execute_result"
    }
   ],
   "source": [
    "# the cast\n",
    "\n",
    "res_title = j_data[j_data['title'] == 'The Avengers']\n",
    "res_title['cast']"
   ]
  },
  {
   "cell_type": "markdown",
   "id": "e4826a18",
   "metadata": {},
   "source": [
    "# How to read the file extension .dta"
   ]
  },
  {
   "cell_type": "code",
   "execution_count": 37,
   "id": "d112dfb0",
   "metadata": {},
   "outputs": [
    {
     "data": {
      "text/html": [
       "<div>\n",
       "<style scoped>\n",
       "    .dataframe tbody tr th:only-of-type {\n",
       "        vertical-align: middle;\n",
       "    }\n",
       "\n",
       "    .dataframe tbody tr th {\n",
       "        vertical-align: top;\n",
       "    }\n",
       "\n",
       "    .dataframe thead th {\n",
       "        text-align: right;\n",
       "    }\n",
       "</style>\n",
       "<table border=\"1\" class=\"dataframe\">\n",
       "  <thead>\n",
       "    <tr style=\"text-align: right;\">\n",
       "      <th></th>\n",
       "      <th>year</th>\n",
       "      <th>month</th>\n",
       "      <th>fixed_rate</th>\n",
       "      <th>starts</th>\n",
       "      <th>sold</th>\n",
       "    </tr>\n",
       "  </thead>\n",
       "  <tbody>\n",
       "    <tr>\n",
       "      <th>0</th>\n",
       "      <td>1990.0</td>\n",
       "      <td>1.0</td>\n",
       "      <td>9.81</td>\n",
       "      <td>1551.0</td>\n",
       "      <td>45.0</td>\n",
       "    </tr>\n",
       "    <tr>\n",
       "      <th>1</th>\n",
       "      <td>1990.0</td>\n",
       "      <td>2.0</td>\n",
       "      <td>9.97</td>\n",
       "      <td>1437.0</td>\n",
       "      <td>50.0</td>\n",
       "    </tr>\n",
       "    <tr>\n",
       "      <th>2</th>\n",
       "      <td>1990.0</td>\n",
       "      <td>3.0</td>\n",
       "      <td>10.03</td>\n",
       "      <td>1289.0</td>\n",
       "      <td>58.0</td>\n",
       "    </tr>\n",
       "    <tr>\n",
       "      <th>3</th>\n",
       "      <td>1990.0</td>\n",
       "      <td>4.0</td>\n",
       "      <td>10.14</td>\n",
       "      <td>1248.0</td>\n",
       "      <td>52.0</td>\n",
       "    </tr>\n",
       "    <tr>\n",
       "      <th>4</th>\n",
       "      <td>1990.0</td>\n",
       "      <td>5.0</td>\n",
       "      <td>10.22</td>\n",
       "      <td>1212.0</td>\n",
       "      <td>50.0</td>\n",
       "    </tr>\n",
       "    <tr>\n",
       "      <th>...</th>\n",
       "      <td>...</td>\n",
       "      <td>...</td>\n",
       "      <td>...</td>\n",
       "      <td>...</td>\n",
       "      <td>...</td>\n",
       "    </tr>\n",
       "    <tr>\n",
       "      <th>179</th>\n",
       "      <td>2004.0</td>\n",
       "      <td>12.0</td>\n",
       "      <td>5.90</td>\n",
       "      <td>2050.0</td>\n",
       "      <td>83.0</td>\n",
       "    </tr>\n",
       "    <tr>\n",
       "      <th>180</th>\n",
       "      <td>2005.0</td>\n",
       "      <td>1.0</td>\n",
       "      <td>5.90</td>\n",
       "      <td>2188.0</td>\n",
       "      <td>92.0</td>\n",
       "    </tr>\n",
       "    <tr>\n",
       "      <th>181</th>\n",
       "      <td>2005.0</td>\n",
       "      <td>2.0</td>\n",
       "      <td>5.90</td>\n",
       "      <td>2228.0</td>\n",
       "      <td>109.0</td>\n",
       "    </tr>\n",
       "    <tr>\n",
       "      <th>182</th>\n",
       "      <td>2005.0</td>\n",
       "      <td>3.0</td>\n",
       "      <td>5.98</td>\n",
       "      <td>1836.0</td>\n",
       "      <td>128.0</td>\n",
       "    </tr>\n",
       "    <tr>\n",
       "      <th>183</th>\n",
       "      <td>2005.0</td>\n",
       "      <td>4.0</td>\n",
       "      <td>6.09</td>\n",
       "      <td>2038.0</td>\n",
       "      <td>122.0</td>\n",
       "    </tr>\n",
       "  </tbody>\n",
       "</table>\n",
       "<p>184 rows × 5 columns</p>\n",
       "</div>"
      ],
      "text/plain": [
       "       year  month  fixed_rate  starts   sold\n",
       "0    1990.0    1.0        9.81  1551.0   45.0\n",
       "1    1990.0    2.0        9.97  1437.0   50.0\n",
       "2    1990.0    3.0       10.03  1289.0   58.0\n",
       "3    1990.0    4.0       10.14  1248.0   52.0\n",
       "4    1990.0    5.0       10.22  1212.0   50.0\n",
       "..      ...    ...         ...     ...    ...\n",
       "179  2004.0   12.0        5.90  2050.0   83.0\n",
       "180  2005.0    1.0        5.90  2188.0   92.0\n",
       "181  2005.0    2.0        5.90  2228.0  109.0\n",
       "182  2005.0    3.0        5.98  1836.0  128.0\n",
       "183  2005.0    4.0        6.09  2038.0  122.0\n",
       "\n",
       "[184 rows x 5 columns]"
      ]
     },
     "execution_count": 37,
     "metadata": {},
     "output_type": "execute_result"
    }
   ],
   "source": [
    "house_dta = pd.read_stata(\"C:/Users/OLA/Documents/Data/house_starts.dta\")\n",
    "house_dta"
   ]
  },
  {
   "cell_type": "code",
   "execution_count": 42,
   "id": "ca4da6d2",
   "metadata": {},
   "outputs": [
    {
     "name": "stdout",
     "output_type": "stream",
     "text": [
      "Requirement already satisfied: tabula.py in c:\\users\\ola\\anaconda3\\lib\\site-packages (2.7.0)\n",
      "Requirement already satisfied: numpy in c:\\users\\ola\\anaconda3\\lib\\site-packages (from tabula.py) (1.21.5)\n",
      "Requirement already satisfied: distro in c:\\users\\ola\\anaconda3\\lib\\site-packages (from tabula.py) (1.8.0)\n",
      "Requirement already satisfied: pandas>=0.25.3 in c:\\users\\ola\\anaconda3\\lib\\site-packages (from tabula.py) (1.4.4)\n",
      "Requirement already satisfied: python-dateutil>=2.8.1 in c:\\users\\ola\\anaconda3\\lib\\site-packages (from pandas>=0.25.3->tabula.py) (2.8.2)\n",
      "Requirement already satisfied: pytz>=2020.1 in c:\\users\\ola\\anaconda3\\lib\\site-packages (from pandas>=0.25.3->tabula.py) (2022.1)\n",
      "Requirement already satisfied: six>=1.5 in c:\\users\\ola\\anaconda3\\lib\\site-packages (from python-dateutil>=2.8.1->pandas>=0.25.3->tabula.py) (1.16.0)\n",
      "Note: you may need to restart the kernel to use updated packages.\n"
     ]
    }
   ],
   "source": [
    "pip install tabula.py"
   ]
  },
  {
   "cell_type": "code",
   "execution_count": 1,
   "id": "f199b7f5",
   "metadata": {},
   "outputs": [
    {
     "data": {
      "text/plain": [
       "[      0       1      2     3\n",
       " 0  15.2  386.71  17.10  18.9\n",
       " 1  15.2  392.52  20.45  15.0\n",
       " 2  15.2  396.90  13.27  18.9\n",
       " 3  15.2  390.50  15.71  21.7]"
      ]
     },
     "execution_count": 1,
     "metadata": {},
     "output_type": "execute_result"
    }
   ],
   "source": [
    "from tabula import read_pdf\n",
    "housing_data = read_pdf(\"C:/Users/OLA/Documents/Data/Housing_data.pdf\", pages=[2], pandas_options={'header':None})\n",
    "housing_data"
   ]
  },
  {
   "cell_type": "markdown",
   "id": "8848aa58",
   "metadata": {},
   "source": [
    "# Introduction to beautiful Soup 4 and Web Page parsing\n",
    "\n",
    "# 23/03/23"
   ]
  },
  {
   "cell_type": "code",
   "execution_count": 4,
   "id": "bad354b4",
   "metadata": {},
   "outputs": [
    {
     "name": "stdout",
     "output_type": "stream",
     "text": [
      "<html><body><h1>Lorem ipsum dolor sit amet consectetuer adipiscing \n",
      "elit</h1>\n",
      "<p>Lorem ipsum dolor sit amet, consectetuer adipiscing \n",
      "elit. Aenean commodo ligula eget dolor. Aenean massa \n",
      "<strong>strong</strong>. Cum sociis natoque penatibus \n",
      "et magnis dis parturient montes, nascetur ridiculus \n",
      "mus. Donec quam felis, ultricies nec, pellentesque \n",
      "eu, pretium quis, sem. Nulla consequat massa quis \n",
      "enim. Donec pede justo, fringilla vel, aliquet nec, \n",
      "vulputate eget, arcu. In enim justo, rhoncus ut, \n",
      "imperdiet a, venenatis vitae, justo. Nullam dictum \n",
      "felis eu pede <a class=\"external ext\" href=\"#\">link</a> \n",
      "mollis pretium. Integer tincidunt. Cras dapibus. \n",
      "Vivamus elementum semper nisi. Aenean vulputate \n",
      "eleifend tellus. Aenean leo ligula, porttitor eu, \n",
      "consequat vitae, eleifend ac, enim. Aliquam lorem ante, \n",
      "dapibus in, viverra quis, feugiat a, tellus. Phasellus \n",
      "viverra nulla ut metus varius laoreet. Quisque rutrum. \n",
      "Aenean imperdiet. Etiam ultricies nisi vel augue. \n",
      "Curabitur ullamcorper ultricies nisi.</p>\n",
      "<h1>Lorem ipsum dolor sit amet consectetuer adipiscing \n",
      "elit</h1>\n",
      "<h2>Aenean commodo ligula eget dolor aenean massa</h2>\n",
      "<p>Lorem ipsum dolor sit amet, consectetuer adipiscing \n",
      "elit. Aenean commodo ligula eget dolor. Aenean massa. \n",
      "Cum sociis natoque penatibus et magnis dis parturient \n",
      "montes, nascetur ridiculus mus. Donec quam felis, \n",
      "ultricies nec, pellentesque eu, pretium quis, sem.</p>\n",
      "<h2>Aenean commodo ligula eget dolor aenean massa</h2>\n",
      "<p>Lorem ipsum dolor sit amet, consectetuer adipiscing \n",
      "elit. Aenean commodo ligula eget dolor. Aenean massa. \n",
      "Cum sociis natoque penatibus et magnis dis parturient \n",
      "montes, nascetur ridiculus mus. Donec quam felis, \n",
      "ultricies nec, pellentesque eu, pretium quis, sem.</p>\n",
      "<ul>\n",
      "<li><a href=\"https://en.wikipedia.org/wiki/Entropy_(information_theory)\">Information Entropy</a></li>\n",
      "<li><a href=\"http://www.gutenberg.org/browse/scores/top\">Top books in Gutenberg</a></li>\n",
      "<li><a href=\"https://www.imdb.com/chart/top\">Top 250 movies in IMDB</a></li>\n",
      "</ul>\n",
      "<p>Lorem ipsum dolor sit amet, consectetuer adipiscing \n",
      "elit. Aenean commodo ligula eget dolor. Aenean massa. \n",
      "Cum sociis natoque penatibus et magnis dis parturient \n",
      "montes, nascetur ridiculus mus. Donec quam felis, \n",
      "ultricies nec, pellentesque eu, pretium quis, sem.</p>\n",
      "<form action=\"#\" method=\"post\">\n",
      "<fieldset>\n",
      "<label for=\"name\">Name:</label>\n",
      "<input id=\"name\" placeholder=\"Enter your \n",
      "full name\" type=\"text\"/>\n",
      "<label for=\"email\">Email:</label>\n",
      "<input id=\"email\" placeholder=\"Enter \n",
      "your email address\" type=\"email\"/>\n",
      "<label for=\"message\">Message:</label>\n",
      "<textarea id=\"message\" placeholder=\"What's on your \n",
      "mind?\"></textarea>\n",
      "<input type=\"submit\" value=\"Send message\"/>\n",
      "</fieldset>\n",
      "</form>\n",
      "<p>Lorem ipsum dolor sit amet, consectetuer adipiscing \n",
      "elit. Aenean commodo ligula eget dolor. Aenean massa. \n",
      "Cum sociis natoque penatibus et magnis dis parturient \n",
      "montes, nascetur ridiculus mus. Donec quam felis, \n",
      "ultricies nec, pellentesque eu, pretium quis, sem.</p>\n",
      "<table class=\"data\">\n",
      "<tr>\n",
      "<th>Entry Header 1</th>\n",
      "<th>Entry Header 2</th>\n",
      "<th>Entry Header 3</th>\n",
      "<th>Entry Header 4</th>\n",
      "</tr>\n",
      "<tr>\n",
      "<td>Entry First Line 1</td>\n",
      "<td>Entry First Line 2</td>\n",
      "<td>Entry First Line 3</td>\n",
      "<td>Entry First Line 4</td>\n",
      "</tr>\n",
      "<tr>\n",
      "<td>Entry Line 1</td>\n",
      "<td>Entry Line 2</td>\n",
      "<td>Entry Line 3</td>\n",
      "<td>Entry Line 4</td>\n",
      "</tr>\n",
      "<tr>\n",
      "<td>Entry Last Line 1</td>\n",
      "<td>Entry Last Line 2</td>\n",
      "<td>Entry Last Line 3</td>\n",
      "<td>Entry Last Line 4</td>\n",
      "</tr>\n",
      "</table>\n",
      "<p>Lorem ipsum dolor sit amet, consectetuer adipiscing \n",
      "elit. Aenean commodo ligula eget dolor. Aenean massa. \n",
      "Cum sociis natoque penatibus et magnis dis parturient \n",
      "montes, nascetur ridiculus mus. Donec quam felis, \n",
      "ultricies nec, pellentesque eu, pretium quis, sem.</p>\n",
      "</body></html>\n"
     ]
    }
   ],
   "source": [
    "from bs4 import BeautifulSoup\n",
    "\n",
    "with open(\"C:/Users/OLA/Documents/Data/test.html\", \"r\") as fd:\n",
    "    soup = BeautifulSoup(fd)\n",
    "    print(soup)"
   ]
  },
  {
   "cell_type": "markdown",
   "id": "1cc6c449",
   "metadata": {},
   "source": [
    "# To get all the paragraph in the Soup"
   ]
  },
  {
   "cell_type": "code",
   "execution_count": 6,
   "id": "4fabc70f",
   "metadata": {},
   "outputs": [
    {
     "name": "stdout",
     "output_type": "stream",
     "text": [
      "<p>Lorem ipsum dolor sit amet, consectetuer adipiscing \n",
      "elit. Aenean commodo ligula eget dolor. Aenean massa \n",
      "<strong>strong</strong>. Cum sociis natoque penatibus \n",
      "et magnis dis parturient montes, nascetur ridiculus \n",
      "mus. Donec quam felis, ultricies nec, pellentesque \n",
      "eu, pretium quis, sem. Nulla consequat massa quis \n",
      "enim. Donec pede justo, fringilla vel, aliquet nec, \n",
      "vulputate eget, arcu. In enim justo, rhoncus ut, \n",
      "imperdiet a, venenatis vitae, justo. Nullam dictum \n",
      "felis eu pede <a class=\"external ext\" href=\"#\">link</a> \n",
      "mollis pretium. Integer tincidunt. Cras dapibus. \n",
      "Vivamus elementum semper nisi. Aenean vulputate \n",
      "eleifend tellus. Aenean leo ligula, porttitor eu, \n",
      "consequat vitae, eleifend ac, enim. Aliquam lorem ante, \n",
      "dapibus in, viverra quis, feugiat a, tellus. Phasellus \n",
      "viverra nulla ut metus varius laoreet. Quisque rutrum. \n",
      "Aenean imperdiet. Etiam ultricies nisi vel augue. \n",
      "Curabitur ullamcorper ultricies nisi.</p>\n"
     ]
    }
   ],
   "source": [
    "print(soup.p)"
   ]
  },
  {
   "cell_type": "markdown",
   "id": "6a6d1f88",
   "metadata": {},
   "source": [
    "# To get all the paragraph"
   ]
  },
  {
   "cell_type": "code",
   "execution_count": 9,
   "id": "ff31404f",
   "metadata": {},
   "outputs": [
    {
     "name": "stdout",
     "output_type": "stream",
     "text": [
      "<p>Lorem ipsum dolor sit amet, consectetuer adipiscing \n",
      "elit. Aenean commodo ligula eget dolor. Aenean massa \n",
      "<strong>strong</strong>. Cum sociis natoque penatibus \n",
      "et magnis dis parturient montes, nascetur ridiculus \n",
      "mus. Donec quam felis, ultricies nec, pellentesque \n",
      "eu, pretium quis, sem. Nulla consequat massa quis \n",
      "enim. Donec pede justo, fringilla vel, aliquet nec, \n",
      "vulputate eget, arcu. In enim justo, rhoncus ut, \n",
      "imperdiet a, venenatis vitae, justo. Nullam dictum \n",
      "felis eu pede <a class=\"external ext\" href=\"#\">link</a> \n",
      "mollis pretium. Integer tincidunt. Cras dapibus. \n",
      "Vivamus elementum semper nisi. Aenean vulputate \n",
      "eleifend tellus. Aenean leo ligula, porttitor eu, \n",
      "consequat vitae, eleifend ac, enim. Aliquam lorem ante, \n",
      "dapibus in, viverra quis, feugiat a, tellus. Phasellus \n",
      "viverra nulla ut metus varius laoreet. Quisque rutrum. \n",
      "Aenean imperdiet. Etiam ultricies nisi vel augue. \n",
      "Curabitur ullamcorper ultricies nisi.</p> \n",
      "\n",
      "<p>Lorem ipsum dolor sit amet, consectetuer adipiscing \n",
      "elit. Aenean commodo ligula eget dolor. Aenean massa. \n",
      "Cum sociis natoque penatibus et magnis dis parturient \n",
      "montes, nascetur ridiculus mus. Donec quam felis, \n",
      "ultricies nec, pellentesque eu, pretium quis, sem.</p> \n",
      "\n",
      "<p>Lorem ipsum dolor sit amet, consectetuer adipiscing \n",
      "elit. Aenean commodo ligula eget dolor. Aenean massa. \n",
      "Cum sociis natoque penatibus et magnis dis parturient \n",
      "montes, nascetur ridiculus mus. Donec quam felis, \n",
      "ultricies nec, pellentesque eu, pretium quis, sem.</p> \n",
      "\n",
      "<p>Lorem ipsum dolor sit amet, consectetuer adipiscing \n",
      "elit. Aenean commodo ligula eget dolor. Aenean massa. \n",
      "Cum sociis natoque penatibus et magnis dis parturient \n",
      "montes, nascetur ridiculus mus. Donec quam felis, \n",
      "ultricies nec, pellentesque eu, pretium quis, sem.</p> \n",
      "\n",
      "<p>Lorem ipsum dolor sit amet, consectetuer adipiscing \n",
      "elit. Aenean commodo ligula eget dolor. Aenean massa. \n",
      "Cum sociis natoque penatibus et magnis dis parturient \n",
      "montes, nascetur ridiculus mus. Donec quam felis, \n",
      "ultricies nec, pellentesque eu, pretium quis, sem.</p> \n",
      "\n",
      "<p>Lorem ipsum dolor sit amet, consectetuer adipiscing \n",
      "elit. Aenean commodo ligula eget dolor. Aenean massa. \n",
      "Cum sociis natoque penatibus et magnis dis parturient \n",
      "montes, nascetur ridiculus mus. Donec quam felis, \n",
      "ultricies nec, pellentesque eu, pretium quis, sem.</p> \n",
      "\n"
     ]
    }
   ],
   "source": [
    "all_p = soup.find_all('p')\n",
    "for p in all_p:\n",
    "    print(p, \"\\n\")"
   ]
  },
  {
   "cell_type": "code",
   "execution_count": 11,
   "id": "56bdd596",
   "metadata": {},
   "outputs": [
    {
     "name": "stdout",
     "output_type": "stream",
     "text": [
      "6\n"
     ]
    }
   ],
   "source": [
    "print(len(all_p)) # to check the lenght of p"
   ]
  },
  {
   "cell_type": "code",
   "execution_count": 13,
   "id": "39ba63c9",
   "metadata": {},
   "outputs": [
    {
     "name": "stdout",
     "output_type": "stream",
     "text": [
      "Lorem ipsum dolor sit amet, consectetuer adipiscing \n",
      "elit. Aenean commodo ligula eget dolor. Aenean massa \n",
      " \n",
      "\n",
      "<strong>strong</strong> \n",
      "\n",
      ". Cum sociis natoque penatibus \n",
      "et magnis dis parturient montes, nascetur ridiculus \n",
      "mus. Donec quam felis, ultricies nec, pellentesque \n",
      "eu, pretium quis, sem. Nulla consequat massa quis \n",
      "enim. Donec pede justo, fringilla vel, aliquet nec, \n",
      "vulputate eget, arcu. In enim justo, rhoncus ut, \n",
      "imperdiet a, venenatis vitae, justo. Nullam dictum \n",
      "felis eu pede  \n",
      "\n",
      "<a class=\"external ext\" href=\"#\">link</a> \n",
      "\n",
      " \n",
      "mollis pretium. Integer tincidunt. Cras dapibus. \n",
      "Vivamus elementum semper nisi. Aenean vulputate \n",
      "eleifend tellus. Aenean leo ligula, porttitor eu, \n",
      "consequat vitae, eleifend ac, enim. Aliquam lorem ante, \n",
      "dapibus in, viverra quis, feugiat a, tellus. Phasellus \n",
      "viverra nulla ut metus varius laoreet. Quisque rutrum. \n",
      "Aenean imperdiet. Etiam ultricies nisi vel augue. \n",
      "Curabitur ullamcorper ultricies nisi. \n",
      "\n"
     ]
    }
   ],
   "source": [
    "# to print al the children of the first paragraph\n",
    "\n",
    "for child in all_p[0].children:\n",
    "    print(child, '\\n')"
   ]
  },
  {
   "cell_type": "code",
   "execution_count": 14,
   "id": "e177437c",
   "metadata": {},
   "outputs": [
    {
     "name": "stdout",
     "output_type": "stream",
     "text": [
      "\n",
      "\n",
      "<tr>\n",
      "<th>Entry Header 1</th>\n",
      "<th>Entry Header 2</th>\n",
      "<th>Entry Header 3</th>\n",
      "<th>Entry Header 4</th>\n",
      "</tr>\n",
      "\n",
      "\n",
      "<tr>\n",
      "<td>Entry First Line 1</td>\n",
      "<td>Entry First Line 2</td>\n",
      "<td>Entry First Line 3</td>\n",
      "<td>Entry First Line 4</td>\n",
      "</tr>\n",
      "\n",
      "\n",
      "<tr>\n",
      "<td>Entry Line 1</td>\n",
      "<td>Entry Line 2</td>\n",
      "<td>Entry Line 3</td>\n",
      "<td>Entry Line 4</td>\n",
      "</tr>\n",
      "\n",
      "\n",
      "<tr>\n",
      "<td>Entry Last Line 1</td>\n",
      "<td>Entry Last Line 2</td>\n",
      "<td>Entry Last Line 3</td>\n",
      "<td>Entry Last Line 4</td>\n",
      "</tr>\n",
      "\n",
      "\n"
     ]
    }
   ],
   "source": [
    "table = soup.table\n",
    "\n",
    "for child in table.children:\n",
    "    print(child)"
   ]
  },
  {
   "cell_type": "code",
   "execution_count": 15,
   "id": "3c032e4c",
   "metadata": {},
   "outputs": [
    {
     "name": "stdout",
     "output_type": "stream",
     "text": [
      "Entry Header 1\n",
      "Entry Header 2\n",
      "Entry Header 3\n",
      "Entry Header 4\n"
     ]
    }
   ],
   "source": [
    "# To get the text of the web without the body code\n",
    "\n",
    "all_th = soup.find_all('th')\n",
    "\n",
    "for col in all_th:\n",
    "    print(col.get_text()) "
   ]
  },
  {
   "cell_type": "code",
   "execution_count": 21,
   "id": "0bfdd911",
   "metadata": {},
   "outputs": [
    {
     "data": {
      "text/plain": [
       "['Entry Header 1', 'Entry Header 2', 'Entry Header 3', 'Entry Header 4']"
      ]
     },
     "execution_count": 21,
     "metadata": {},
     "output_type": "execute_result"
    }
   ],
   "source": [
    "col_header = [th.getText() for th in soup.findAll('th')]\n",
    "col_header"
   ]
  },
  {
   "cell_type": "code",
   "execution_count": 22,
   "id": "a148cbdb",
   "metadata": {},
   "outputs": [],
   "source": [
    "import pandas as pd"
   ]
  },
  {
   "cell_type": "code",
   "execution_count": 27,
   "id": "c9c26617",
   "metadata": {},
   "outputs": [
    {
     "data": {
      "text/html": [
       "<div>\n",
       "<style scoped>\n",
       "    .dataframe tbody tr th:only-of-type {\n",
       "        vertical-align: middle;\n",
       "    }\n",
       "\n",
       "    .dataframe tbody tr th {\n",
       "        vertical-align: top;\n",
       "    }\n",
       "\n",
       "    .dataframe thead th {\n",
       "        text-align: right;\n",
       "    }\n",
       "</style>\n",
       "<table border=\"1\" class=\"dataframe\">\n",
       "  <thead>\n",
       "    <tr style=\"text-align: right;\">\n",
       "      <th></th>\n",
       "      <th>Nation</th>\n",
       "      <th>Gold</th>\n",
       "      <th>Silver</th>\n",
       "      <th>Bronze</th>\n",
       "      <th>Total</th>\n",
       "    </tr>\n",
       "    <tr>\n",
       "      <th>Rank</th>\n",
       "      <th></th>\n",
       "      <th></th>\n",
       "      <th></th>\n",
       "      <th></th>\n",
       "      <th></th>\n",
       "    </tr>\n",
       "  </thead>\n",
       "  <tbody>\n",
       "    <tr>\n",
       "      <th>1</th>\n",
       "      <td>Norway</td>\n",
       "      <td>13</td>\n",
       "      <td>5</td>\n",
       "      <td>7</td>\n",
       "      <td>25</td>\n",
       "    </tr>\n",
       "    <tr>\n",
       "      <th>2</th>\n",
       "      <td>Germany</td>\n",
       "      <td>12</td>\n",
       "      <td>16</td>\n",
       "      <td>8</td>\n",
       "      <td>36</td>\n",
       "    </tr>\n",
       "    <tr>\n",
       "      <th>3</th>\n",
       "      <td>United States*</td>\n",
       "      <td>10</td>\n",
       "      <td>13</td>\n",
       "      <td>11</td>\n",
       "      <td>34</td>\n",
       "    </tr>\n",
       "    <tr>\n",
       "      <th>4</th>\n",
       "      <td>Canada</td>\n",
       "      <td>7</td>\n",
       "      <td>3</td>\n",
       "      <td>7</td>\n",
       "      <td>17</td>\n",
       "    </tr>\n",
       "    <tr>\n",
       "      <th>5</th>\n",
       "      <td>Russia</td>\n",
       "      <td>5</td>\n",
       "      <td>4</td>\n",
       "      <td>4</td>\n",
       "      <td>13</td>\n",
       "    </tr>\n",
       "    <tr>\n",
       "      <th>6</th>\n",
       "      <td>France</td>\n",
       "      <td>4</td>\n",
       "      <td>5</td>\n",
       "      <td>2</td>\n",
       "      <td>11</td>\n",
       "    </tr>\n",
       "    <tr>\n",
       "      <th>7</th>\n",
       "      <td>Italy</td>\n",
       "      <td>4</td>\n",
       "      <td>4</td>\n",
       "      <td>5</td>\n",
       "      <td>13</td>\n",
       "    </tr>\n",
       "    <tr>\n",
       "      <th>8</th>\n",
       "      <td>Finland</td>\n",
       "      <td>4</td>\n",
       "      <td>2</td>\n",
       "      <td>1</td>\n",
       "      <td>7</td>\n",
       "    </tr>\n",
       "    <tr>\n",
       "      <th>9</th>\n",
       "      <td>Netherlands</td>\n",
       "      <td>3</td>\n",
       "      <td>5</td>\n",
       "      <td>0</td>\n",
       "      <td>8</td>\n",
       "    </tr>\n",
       "    <tr>\n",
       "      <th>10</th>\n",
       "      <td>Austria</td>\n",
       "      <td>3</td>\n",
       "      <td>4</td>\n",
       "      <td>10</td>\n",
       "      <td>17</td>\n",
       "    </tr>\n",
       "    <tr>\n",
       "      <th>11</th>\n",
       "      <td>Switzerland</td>\n",
       "      <td>3</td>\n",
       "      <td>2</td>\n",
       "      <td>6</td>\n",
       "      <td>11</td>\n",
       "    </tr>\n",
       "    <tr>\n",
       "      <th>12</th>\n",
       "      <td>Croatia</td>\n",
       "      <td>3</td>\n",
       "      <td>1</td>\n",
       "      <td>0</td>\n",
       "      <td>4</td>\n",
       "    </tr>\n",
       "    <tr>\n",
       "      <th>13</th>\n",
       "      <td>China</td>\n",
       "      <td>2</td>\n",
       "      <td>2</td>\n",
       "      <td>4</td>\n",
       "      <td>8</td>\n",
       "    </tr>\n",
       "    <tr>\n",
       "      <th>14</th>\n",
       "      <td>South Korea</td>\n",
       "      <td>2</td>\n",
       "      <td>2</td>\n",
       "      <td>0</td>\n",
       "      <td>4</td>\n",
       "    </tr>\n",
       "    <tr>\n",
       "      <th>15</th>\n",
       "      <td>Australia</td>\n",
       "      <td>2</td>\n",
       "      <td>0</td>\n",
       "      <td>0</td>\n",
       "      <td>2</td>\n",
       "    </tr>\n",
       "    <tr>\n",
       "      <th>16</th>\n",
       "      <td>Czech Republic</td>\n",
       "      <td>1</td>\n",
       "      <td>2</td>\n",
       "      <td>0</td>\n",
       "      <td>3</td>\n",
       "    </tr>\n",
       "    <tr>\n",
       "      <th>17</th>\n",
       "      <td>Estonia</td>\n",
       "      <td>1</td>\n",
       "      <td>1</td>\n",
       "      <td>1</td>\n",
       "      <td>3</td>\n",
       "    </tr>\n",
       "    <tr>\n",
       "      <th>18</th>\n",
       "      <td>Great Britain</td>\n",
       "      <td>1</td>\n",
       "      <td>0</td>\n",
       "      <td>1</td>\n",
       "      <td>2</td>\n",
       "    </tr>\n",
       "    <tr>\n",
       "      <th>19</th>\n",
       "      <td>Sweden</td>\n",
       "      <td>0</td>\n",
       "      <td>2</td>\n",
       "      <td>5</td>\n",
       "      <td>7</td>\n",
       "    </tr>\n",
       "    <tr>\n",
       "      <th>20</th>\n",
       "      <td>Bulgaria</td>\n",
       "      <td>0</td>\n",
       "      <td>1</td>\n",
       "      <td>2</td>\n",
       "      <td>3</td>\n",
       "    </tr>\n",
       "    <tr>\n",
       "      <th>21</th>\n",
       "      <td>Japan</td>\n",
       "      <td>0</td>\n",
       "      <td>1</td>\n",
       "      <td>1</td>\n",
       "      <td>2</td>\n",
       "    </tr>\n",
       "    <tr>\n",
       "      <th>21</th>\n",
       "      <td>Poland</td>\n",
       "      <td>0</td>\n",
       "      <td>1</td>\n",
       "      <td>1</td>\n",
       "      <td>2</td>\n",
       "    </tr>\n",
       "    <tr>\n",
       "      <th>23</th>\n",
       "      <td>Belarus</td>\n",
       "      <td>0</td>\n",
       "      <td>0</td>\n",
       "      <td>1</td>\n",
       "      <td>1</td>\n",
       "    </tr>\n",
       "    <tr>\n",
       "      <th>23</th>\n",
       "      <td>Slovenia</td>\n",
       "      <td>0</td>\n",
       "      <td>0</td>\n",
       "      <td>1</td>\n",
       "      <td>1</td>\n",
       "    </tr>\n",
       "    <tr>\n",
       "      <th>Totals (24 entries)</th>\n",
       "      <td>Totals (24 entries)</td>\n",
       "      <td>80</td>\n",
       "      <td>76</td>\n",
       "      <td>78</td>\n",
       "      <td>234</td>\n",
       "    </tr>\n",
       "  </tbody>\n",
       "</table>\n",
       "</div>"
      ],
      "text/plain": [
       "                                  Nation  Gold  Silver  Bronze  Total\n",
       "Rank                                                                 \n",
       "1                                 Norway    13       5       7     25\n",
       "2                                Germany    12      16       8     36\n",
       "3                         United States*    10      13      11     34\n",
       "4                                 Canada     7       3       7     17\n",
       "5                                 Russia     5       4       4     13\n",
       "6                                 France     4       5       2     11\n",
       "7                                  Italy     4       4       5     13\n",
       "8                                Finland     4       2       1      7\n",
       "9                            Netherlands     3       5       0      8\n",
       "10                               Austria     3       4      10     17\n",
       "11                           Switzerland     3       2       6     11\n",
       "12                               Croatia     3       1       0      4\n",
       "13                                 China     2       2       4      8\n",
       "14                           South Korea     2       2       0      4\n",
       "15                             Australia     2       0       0      2\n",
       "16                        Czech Republic     1       2       0      3\n",
       "17                               Estonia     1       1       1      3\n",
       "18                         Great Britain     1       0       1      2\n",
       "19                                Sweden     0       2       5      7\n",
       "20                              Bulgaria     0       1       2      3\n",
       "21                                 Japan     0       1       1      2\n",
       "21                                Poland     0       1       1      2\n",
       "23                               Belarus     0       0       1      1\n",
       "23                              Slovenia     0       0       1      1\n",
       "Totals (24 entries)  Totals (24 entries)    80      76      78    234"
      ]
     },
     "execution_count": 27,
     "metadata": {},
     "output_type": "execute_result"
    }
   ],
   "source": [
    "url = \"https://en.wikipedia.org/wiki/2002_Winter_Olympics_medal_table\"\n",
    "list_of_df = pd.read_html(url)\n",
    "medal_table = list_of_df[3]\n",
    "medal_table.set_index('Rank', inplace=True)\n",
    "medal_table"
   ]
  },
  {
   "cell_type": "code",
   "execution_count": 25,
   "id": "d2962d5c",
   "metadata": {},
   "outputs": [
    {
     "name": "stdout",
     "output_type": "stream",
     "text": [
      "Requirement already satisfied: openpyxl in c:\\users\\ola\\anaconda3\\lib\\site-packages (3.0.10)\n",
      "Requirement already satisfied: et_xmlfile in c:\\users\\ola\\anaconda3\\lib\\site-packages (from openpyxl) (1.1.0)\n"
     ]
    }
   ],
   "source": [
    "!pip install openpyxl"
   ]
  },
  {
   "cell_type": "code",
   "execution_count": 28,
   "id": "973cee17",
   "metadata": {},
   "outputs": [
    {
     "data": {
      "text/html": [
       "<div>\n",
       "<style scoped>\n",
       "    .dataframe tbody tr th:only-of-type {\n",
       "        vertical-align: middle;\n",
       "    }\n",
       "\n",
       "    .dataframe tbody tr th {\n",
       "        vertical-align: top;\n",
       "    }\n",
       "\n",
       "    .dataframe thead th {\n",
       "        text-align: right;\n",
       "    }\n",
       "</style>\n",
       "<table border=\"1\" class=\"dataframe\">\n",
       "  <thead>\n",
       "    <tr style=\"text-align: right;\">\n",
       "      <th></th>\n",
       "      <th>NOC</th>\n",
       "      <th>Gold</th>\n",
       "      <th>Silver</th>\n",
       "      <th>Bronze</th>\n",
       "      <th>Total</th>\n",
       "    </tr>\n",
       "    <tr>\n",
       "      <th>Rank</th>\n",
       "      <th></th>\n",
       "      <th></th>\n",
       "      <th></th>\n",
       "      <th></th>\n",
       "      <th></th>\n",
       "    </tr>\n",
       "  </thead>\n",
       "  <tbody>\n",
       "    <tr>\n",
       "      <th>1</th>\n",
       "      <td>United States</td>\n",
       "      <td>46</td>\n",
       "      <td>37</td>\n",
       "      <td>38</td>\n",
       "      <td>121</td>\n",
       "    </tr>\n",
       "    <tr>\n",
       "      <th>2</th>\n",
       "      <td>Great Britain</td>\n",
       "      <td>27</td>\n",
       "      <td>23</td>\n",
       "      <td>17</td>\n",
       "      <td>67</td>\n",
       "    </tr>\n",
       "    <tr>\n",
       "      <th>3</th>\n",
       "      <td>China</td>\n",
       "      <td>26</td>\n",
       "      <td>18</td>\n",
       "      <td>26</td>\n",
       "      <td>70</td>\n",
       "    </tr>\n",
       "    <tr>\n",
       "      <th>4</th>\n",
       "      <td>Russia</td>\n",
       "      <td>19</td>\n",
       "      <td>17</td>\n",
       "      <td>20</td>\n",
       "      <td>56</td>\n",
       "    </tr>\n",
       "    <tr>\n",
       "      <th>5</th>\n",
       "      <td>Germany</td>\n",
       "      <td>17</td>\n",
       "      <td>10</td>\n",
       "      <td>15</td>\n",
       "      <td>42</td>\n",
       "    </tr>\n",
       "    <tr>\n",
       "      <th>...</th>\n",
       "      <td>...</td>\n",
       "      <td>...</td>\n",
       "      <td>...</td>\n",
       "      <td>...</td>\n",
       "      <td>...</td>\n",
       "    </tr>\n",
       "    <tr>\n",
       "      <th>78</th>\n",
       "      <td>Nigeria</td>\n",
       "      <td>0</td>\n",
       "      <td>0</td>\n",
       "      <td>1</td>\n",
       "      <td>1</td>\n",
       "    </tr>\n",
       "    <tr>\n",
       "      <th>78</th>\n",
       "      <td>Portugal</td>\n",
       "      <td>0</td>\n",
       "      <td>0</td>\n",
       "      <td>1</td>\n",
       "      <td>1</td>\n",
       "    </tr>\n",
       "    <tr>\n",
       "      <th>78</th>\n",
       "      <td>Trinidad and Tobago</td>\n",
       "      <td>0</td>\n",
       "      <td>0</td>\n",
       "      <td>1</td>\n",
       "      <td>1</td>\n",
       "    </tr>\n",
       "    <tr>\n",
       "      <th>78</th>\n",
       "      <td>United Arab Emirates</td>\n",
       "      <td>0</td>\n",
       "      <td>0</td>\n",
       "      <td>1</td>\n",
       "      <td>1</td>\n",
       "    </tr>\n",
       "    <tr>\n",
       "      <th>Totals (86 entries)</th>\n",
       "      <td>Totals (86 entries)</td>\n",
       "      <td>306</td>\n",
       "      <td>307</td>\n",
       "      <td>359</td>\n",
       "      <td>972</td>\n",
       "    </tr>\n",
       "  </tbody>\n",
       "</table>\n",
       "<p>87 rows × 5 columns</p>\n",
       "</div>"
      ],
      "text/plain": [
       "                                      NOC  Gold  Silver  Bronze  Total\n",
       "Rank                                                                  \n",
       "1                           United States    46      37      38    121\n",
       "2                           Great Britain    27      23      17     67\n",
       "3                                   China    26      18      26     70\n",
       "4                                  Russia    19      17      20     56\n",
       "5                                 Germany    17      10      15     42\n",
       "...                                   ...   ...     ...     ...    ...\n",
       "78                                Nigeria     0       0       1      1\n",
       "78                               Portugal     0       0       1      1\n",
       "78                    Trinidad and Tobago     0       0       1      1\n",
       "78                   United Arab Emirates     0       0       1      1\n",
       "Totals (86 entries)   Totals (86 entries)   306     307     359    972\n",
       "\n",
       "[87 rows x 5 columns]"
      ]
     },
     "execution_count": 28,
     "metadata": {},
     "output_type": "execute_result"
    }
   ],
   "source": [
    "url = \"https://en.wikipedia.org/wiki/2016_Summer_Olympics_medal_table\"\n",
    "list_of_df = pd.read_html(url)\n",
    "medal_table = list_of_df[3]\n",
    "medal_table.set_index('Rank', inplace=True)\n",
    "medal_table"
   ]
  },
  {
   "cell_type": "markdown",
   "id": "f3ad9e9b",
   "metadata": {},
   "source": [
    "# To save my finished work on my file after parsing"
   ]
  },
  {
   "cell_type": "code",
   "execution_count": 31,
   "id": "a93ede33",
   "metadata": {},
   "outputs": [],
   "source": [
    "writer = pd.ExcelWriter('C:/Users/OLA/Documents/Data/test_output.xlsx')\n",
    "medal_table.to_excel(writer, 'sheet1')\n",
    "writer.save()\n"
   ]
  },
  {
   "cell_type": "markdown",
   "id": "4cfd94ff",
   "metadata": {},
   "source": [
    "# 28/03/2023\n"
   ]
  },
  {
   "cell_type": "code",
   "execution_count": null,
   "id": "39ab1dcb",
   "metadata": {},
   "outputs": [],
   "source": [
    "# DDL = Data defination language : this represent an object in the program\n",
    "    # sub options under DDL=> Creat, ALter, Drop (to remove), Rename, Truncate(delete all records but cant be recover or undo the command)\n",
    "\n",
    "\n",
    "# DML = Data Manipulation language\n",
    "\n",
    "    # sub options under DML => Insert, Update, Delete, Merge, Select\n",
    "    \n",
    "    \n",
    "# DCL = Data Control Language\n",
    "\n",
    "    #  Grant, Revoke, Deny\n",
    "\n",
    "# TCL = Transaction Control Language \n",
    "    # ACID\n",
    "    #commit\n",
    "    #rollback\n",
    "    #savepoint"
   ]
  },
  {
   "cell_type": "code",
   "execution_count": 1,
   "id": "29ac520d",
   "metadata": {},
   "outputs": [
    {
     "ename": "OperationalError",
     "evalue": "table Student already exists",
     "output_type": "error",
     "traceback": [
      "\u001b[1;31m---------------------------------------------------------------------------\u001b[0m",
      "\u001b[1;31mOperationalError\u001b[0m                          Traceback (most recent call last)",
      "\u001b[1;32m~\\AppData\\Local\\Temp\\ipykernel_9936\\509975131.py\u001b[0m in \u001b[0;36m<module>\u001b[1;34m\u001b[0m\n\u001b[0;32m      7\u001b[0m                                     \u001b[0mcity\u001b[0m \u001b[0mvarchar\u001b[0m\u001b[1;33m(\u001b[0m\u001b[1;36m255\u001b[0m\u001b[1;33m)\u001b[0m\u001b[1;33m,\u001b[0m\u001b[1;33m\u001b[0m\u001b[1;33m\u001b[0m\u001b[0m\n\u001b[0;32m      8\u001b[0m                                     pin int)\"\"\"\n\u001b[1;32m----> 9\u001b[1;33m     \u001b[0mcon\u001b[0m\u001b[1;33m.\u001b[0m\u001b[0mexecute\u001b[0m\u001b[1;33m(\u001b[0m\u001b[0mstmt\u001b[0m\u001b[1;33m)\u001b[0m\u001b[1;33m\u001b[0m\u001b[1;33m\u001b[0m\u001b[0m\n\u001b[0m\u001b[0;32m     10\u001b[0m \u001b[1;33m\u001b[0m\u001b[0m\n\u001b[0;32m     11\u001b[0m \u001b[0mcon\u001b[0m\u001b[1;33m\u001b[0m\u001b[1;33m\u001b[0m\u001b[0m\n",
      "\u001b[1;31mOperationalError\u001b[0m: table Student already exists"
     ]
    }
   ],
   "source": [
    "import sqlite3\n",
    "\n",
    "with sqlite3.connect(\"ds210322.db\") as con:\n",
    "    Cursor = con.cursor()\n",
    "    stmt = \"\"\"CREATE TABLE Student(stud_id integer primary key autoincrement, \n",
    "                                    name varchar(255),\n",
    "                                    city varchar(255),\n",
    "                                    pin int)\"\"\"\n",
    "    con.execute(stmt)\n",
    "\n",
    "con"
   ]
  },
  {
   "cell_type": "code",
   "execution_count": 3,
   "id": "2a6bd7c9",
   "metadata": {},
   "outputs": [],
   "source": [
    "import sqlite3\n",
    "\n",
    "with sqlite3.connect(\"ds210322.db\") as con:\n",
    "    cursor = con.cursor()\n",
    "    stmt = \"\"\"\n",
    "        insert into student (name, city, pin) values('Ade', 'Lagos', '1212')\n",
    "    \"\"\"\n",
    "    cursor.execute(stmt)\n",
    "        "
   ]
  },
  {
   "cell_type": "code",
   "execution_count": 1,
   "id": "1bf8da48",
   "metadata": {},
   "outputs": [],
   "source": [
    "# second method\n",
    "\n",
    "import sqlite3\n",
    "\n",
    "conn = sqlite3.connect(\"ds210322.db\")\n",
    "cursor = conn.cursor()\n",
    "stmt = \"\"\"\n",
    "    insert into student (name, city, pin)\n",
    "    values('Biodun', 'Abuja', '1111')\n",
    "\"\"\"\n",
    "cursor.execute(stmt)\n",
    "conn.commit()\n",
    "cursor.close()\n",
    "conn.close()"
   ]
  },
  {
   "cell_type": "code",
   "execution_count": 2,
   "id": "06355498",
   "metadata": {},
   "outputs": [],
   "source": [
    "# to insert multiple records to the database\n",
    "import sqlite3\n",
    "\n",
    "with sqlite3.connect(\"ds210322.db\") as con:\n",
    "    cursor = con.cursor()\n",
    "    record = (('Chika', 'Aba', '6667'),\n",
    "             ('Chioma', 'Edo', '2122'),\n",
    "             ('Garba', 'Kano', '988'))\n",
    "    \n",
    "    stmt =\"\"\"\n",
    "        insert into student (name, city, pin) values(?, ?, ?)\n",
    "    \"\"\"\n",
    "    cursor.executemany(stmt, record)"
   ]
  },
  {
   "cell_type": "code",
   "execution_count": null,
   "id": "a76dda78",
   "metadata": {},
   "outputs": [],
   "source": [
    "import sqlite3\n",
    "\n",
    "with sqlite3.connect(\"ds210322.db\") as con:\n",
    "    cursor = con.cursor()\n",
    "    stmt = \"\"\"\n",
    "        "
   ]
  },
  {
   "cell_type": "markdown",
   "id": "43bdf9ab",
   "metadata": {},
   "source": [
    "# 30/03/23"
   ]
  },
  {
   "cell_type": "markdown",
   "id": "9310b029",
   "metadata": {},
   "source": [
    "DDL: Data Definition Language DML: Data Manipulation Language DCL: Data Control Language TCL: Transaction Control Language\n",
    "\n",
    "DDL (Data Definition Language) - used to define the structure of the database schema, including creating, Rename, Truncate (to remove all record in table), altering, and dropping database objects such as tables, indexes, views, etc.(anytime you use a DDL language, it is auto done and it is permanent.)\n",
    "\n",
    "DML (Data Manipulation Language) - used to manipulate or change the data within the database, including inserting, updating, deleting, Merge and selecting data from tables.\n",
    "\n",
    "DCL (Data Control Language) - used to control access to the database, including granting or revoking privileges to users and roles. (Grant, revoke, deny*[only for msql server])\n",
    "\n",
    "TCL (Transaction Control Language) - used to manage transactions within the database, including committing or rolling back transactions and setting transaction isolation levels. properties of transaction: ACID\n",
    "\n",
    "Commit rollback savepoint"
   ]
  },
  {
   "cell_type": "code",
   "execution_count": 4,
   "id": "455db9ee",
   "metadata": {},
   "outputs": [
    {
     "name": "stdout",
     "output_type": "stream",
     "text": [
      "Collecting pysparkNote: you may need to restart the kernel to use updated packages.\n",
      "\n",
      "  Downloading pyspark-3.3.2.tar.gz (281.4 MB)\n",
      "     ------------------------------------- 281.4/281.4 MB 19.9 kB/s eta 0:00:00\n",
      "  Preparing metadata (setup.py): started\n",
      "  Preparing metadata (setup.py): finished with status 'done'\n",
      "Collecting py4j==0.10.9.5\n",
      "  Downloading py4j-0.10.9.5-py2.py3-none-any.whl (199 kB)\n",
      "     ------------------------------------ 199.7/199.7 kB 404.0 kB/s eta 0:00:00\n",
      "Building wheels for collected packages: pyspark\n",
      "  Building wheel for pyspark (setup.py): started\n",
      "  Building wheel for pyspark (setup.py): still running...\n",
      "  Building wheel for pyspark (setup.py): still running...\n",
      "  Building wheel for pyspark (setup.py): finished with status 'done'\n",
      "  Created wheel for pyspark: filename=pyspark-3.3.2-py2.py3-none-any.whl size=281824023 sha256=299f8e91bca0f07dde6fbdaa7cd6131d10c05f097568d4429b6b5cc7a837022c\n",
      "  Stored in directory: c:\\users\\ola\\appdata\\local\\pip\\cache\\wheels\\6c\\e3\\9b\\0525ce8a69478916513509d43693511463c6468db0de237c86\n",
      "Successfully built pyspark\n",
      "Installing collected packages: py4j, pyspark\n",
      "Successfully installed py4j-0.10.9.5 pyspark-3.3.2\n"
     ]
    }
   ],
   "source": [
    "pip install pyspark"
   ]
  },
  {
   "cell_type": "code",
   "execution_count": 2,
   "id": "03226376",
   "metadata": {},
   "outputs": [
    {
     "name": "stdout",
     "output_type": "stream",
     "text": [
      "Requirement already satisfied: findspark in c:\\users\\ola\\anaconda3\\lib\\site-packages (2.0.1)\n",
      "Note: you may need to restart the kernel to use updated packages.\n"
     ]
    }
   ],
   "source": [
    "pip install findspark"
   ]
  },
  {
   "cell_type": "code",
   "execution_count": 1,
   "id": "79083e78",
   "metadata": {},
   "outputs": [],
   "source": [
    "import findspark\n",
    "findspark.init()"
   ]
  },
  {
   "cell_type": "code",
   "execution_count": 2,
   "id": "f1687c13",
   "metadata": {},
   "outputs": [
    {
     "name": "stderr",
     "output_type": "stream",
     "text": [
      "C:\\Users\\OLA\\Anaconda3\\lib\\site-packages\\pyspark\\sql\\context.py:112: FutureWarning: Deprecated in 3.0.0. Use SparkSession.builder.getOrCreate() instead.\n",
      "  warnings.warn(\n"
     ]
    }
   ],
   "source": [
    "from pyspark import SparkContext\n",
    "from pyspark.sql import SQLContext\n",
    "import os\n",
    "\n",
    "os.environ[\"JAVA_HOME\"] = 'C:/Program Files/Java/jdk1.8.0_341'\n",
    "\n",
    "sc = SparkContext()\n",
    "sqlc = SQLContext(sc)"
   ]
  },
  {
   "cell_type": "code",
   "execution_count": 3,
   "id": "7a1dcdb6",
   "metadata": {},
   "outputs": [
    {
     "name": "stdout",
     "output_type": "stream",
     "text": [
      "+----------+----+\n",
      "|        _1|  _2|\n",
      "+----------+----+\n",
      "|      java|5500|\n",
      "|    python|3500|\n",
      "|    django|3500|\n",
      "|        c#|4500|\n",
      "|     React|3000|\n",
      "|Web Design|3000|\n",
      "+----------+----+\n",
      "\n"
     ]
    }
   ],
   "source": [
    "import os \n",
    "import sys\n",
    "\n",
    "os.environ['PYSPARK_PYTHON'] = sys.executable\n",
    "os.environ['PYSPARK_DRIVER_PYTHON'] = sys.executable\n",
    "\n",
    "data = [('java', 5500),\n",
    "       ('python', 3500),\n",
    "       ('django', 3500),\n",
    "       ('c#', 4500),\n",
    "       ('React', 3000),\n",
    "       ('Web Design', 3000)]\n",
    "df = sqlc.createDataFrame(data)\n",
    "df.show()"
   ]
  },
  {
   "cell_type": "markdown",
   "id": "0cb34b35",
   "metadata": {},
   "source": [
    "# ds18/04/23\n",
    "\n",
    "# Into to Big Data\n"
   ]
  },
  {
   "cell_type": "code",
   "execution_count": null,
   "id": "f9d2a9e1",
   "metadata": {},
   "outputs": [],
   "source": [
    "# intoduction to Big data\n",
    "# HDFS = HAdoop\n",
    "# tals about HDFS Architecture\n",
    "#manipulating data with htfs\n",
    "\n",
    "\n",
    "# check all these website in the new enviroment with any browser\n",
    "#http://localhost:9870/dfshealth.html\n",
    "# http://localhost:9864/\n",
    "\n",
    "#to open the function (type start-all)\n",
    "#to know all the command to work with in the new window( type hdfs and enter)\n",
    "# to know all the root command in the new window (type hdfs dfs -ls /)\n",
    "\n",
    "#let make a dirrectory\n",
    "#type(hdfs dfs -mkdir /data)\n",
    "\n",
    "#To create text file(type hdfs dfs -touchz /data/myfile.txt)\n",
    "\n",
    "# to write the file we have created ( hdfs dfs -appendToFile /data/myfile.txt \"Hello, helen..\")\n",
    "\n",
    "#-cp to copy\n",
    "#-get / -copyToLocal\n",
    "#-du"
   ]
  },
  {
   "cell_type": "markdown",
   "id": "b8b8b45a",
   "metadata": {},
   "source": [
    "# DS27/04/2023\n",
    "\n",
    "# We want to create schema\n",
    "\n",
    "# Schema means:  Creating a table from scrash to build a database \n",
    "\n",
    "# Also means: creating a table from an existing database"
   ]
  },
  {
   "cell_type": "code",
   "execution_count": 1,
   "id": "a358f16a",
   "metadata": {},
   "outputs": [],
   "source": [
    "import os\n",
    "import sys\n",
    "\n",
    "os.environ['PYSPARK_PYTHON'] = sys.executable\n",
    "os.environ['PYSPARK_DRIVER_PYTHON'] = sys.executable"
   ]
  },
  {
   "cell_type": "code",
   "execution_count": 2,
   "id": "99e2dc2b",
   "metadata": {},
   "outputs": [
    {
     "name": "stderr",
     "output_type": "stream",
     "text": [
      "C:\\Users\\OLA\\Anaconda3\\lib\\site-packages\\pyspark\\sql\\context.py:112: FutureWarning: Deprecated in 3.0.0. Use SparkSession.builder.getOrCreate() instead.\n",
      "  warnings.warn(\n"
     ]
    }
   ],
   "source": [
    "from pyspark import SparkContext\n",
    "sc = SparkContext()\n",
    "from pyspark.sql import SQLContext\n",
    "sqlc = SQLContext(sc)"
   ]
  },
  {
   "cell_type": "code",
   "execution_count": 19,
   "id": "69fcda19",
   "metadata": {},
   "outputs": [],
   "source": [
    "from pyspark.sql import *\n",
    "\n",
    "table = Row(\"Name\", \"Age\")"
   ]
  },
  {
   "cell_type": "code",
   "execution_count": 20,
   "id": "83047536",
   "metadata": {},
   "outputs": [],
   "source": [
    "row1 = table(\"Ankit\", 23)\n",
    "row2 = table(\"Tyler\", 26)\n",
    "row3 = table(\"Preity\", 36)"
   ]
  },
  {
   "cell_type": "code",
   "execution_count": 21,
   "id": "4d336a3a",
   "metadata": {},
   "outputs": [
    {
     "data": {
      "text/plain": [
       "pyspark.sql.dataframe.DataFrame"
      ]
     },
     "execution_count": 21,
     "metadata": {},
     "output_type": "execute_result"
    }
   ],
   "source": [
    "na_list = [row1, row2, row3]\n",
    "df_na = sqlc.createDataFrame(na_list)\n",
    "type(df_na)"
   ]
  },
  {
   "cell_type": "code",
   "execution_count": 22,
   "id": "bf49a999",
   "metadata": {},
   "outputs": [
    {
     "name": "stdout",
     "output_type": "stream",
     "text": [
      "+------+---+\n",
      "|  Name|Age|\n",
      "+------+---+\n",
      "| Ankit| 23|\n",
      "| Tyler| 26|\n",
      "|Preity| 36|\n",
      "+------+---+\n",
      "\n"
     ]
    }
   ],
   "source": [
    "df_na.show()"
   ]
  },
  {
   "cell_type": "markdown",
   "id": "ada27ca9",
   "metadata": {},
   "source": [
    "# From Existing database"
   ]
  },
  {
   "cell_type": "code",
   "execution_count": 6,
   "id": "ac38184f",
   "metadata": {},
   "outputs": [
    {
     "data": {
      "text/plain": [
       "pyspark.rdd.RDD"
      ]
     },
     "execution_count": 6,
     "metadata": {},
     "output_type": "execute_result"
    }
   ],
   "source": [
    "data = [(\"Ankit\", 23), (\"Tyler\", 26), (\"Preity\", 36)]\n",
    "data_rdd = sc.parallelize(data)\n",
    "type(data_rdd)"
   ]
  },
  {
   "cell_type": "markdown",
   "id": "1cc7f4be",
   "metadata": {},
   "source": [
    "# Let create dataframe from the above"
   ]
  },
  {
   "cell_type": "code",
   "execution_count": 7,
   "id": "f25d40ef",
   "metadata": {},
   "outputs": [
    {
     "name": "stdout",
     "output_type": "stream",
     "text": [
      "+------+---+\n",
      "|    _1| _2|\n",
      "+------+---+\n",
      "| Ankit| 23|\n",
      "| Tyler| 26|\n",
      "|Preity| 36|\n",
      "+------+---+\n",
      "\n"
     ]
    }
   ],
   "source": [
    "data_df = sqlc.createDataFrame(data_rdd)\n",
    "data_df.show()"
   ]
  },
  {
   "cell_type": "code",
   "execution_count": null,
   "id": "ced20152",
   "metadata": {},
   "outputs": [],
   "source": [
    "# first method to read from scrash with format"
   ]
  },
  {
   "cell_type": "code",
   "execution_count": 8,
   "id": "c83f8994",
   "metadata": {},
   "outputs": [
    {
     "data": {
      "text/plain": [
       "pyspark.sql.dataframe.DataFrame"
      ]
     },
     "execution_count": 8,
     "metadata": {},
     "output_type": "execute_result"
    }
   ],
   "source": [
    "df = sqlc.read.format('com.databricks.spark.csv'). \\\n",
    "options(header='true', inferschema='true').\\\n",
    "load('C:/Users/OLA/Documents/Data/1000_Companies.csv')\n",
    "type(df)"
   ]
  },
  {
   "cell_type": "code",
   "execution_count": null,
   "id": "69ff497c",
   "metadata": {},
   "outputs": [],
   "source": []
  },
  {
   "cell_type": "code",
   "execution_count": 9,
   "id": "7d660ac0",
   "metadata": {},
   "outputs": [
    {
     "name": "stdout",
     "output_type": "stream",
     "text": [
      "+---------+--------------+---------------+----------+---------+\n",
      "|R&D Spend|Administration|Marketing Spend|     State|   Profit|\n",
      "+---------+--------------+---------------+----------+---------+\n",
      "| 165349.2|      136897.8|       471784.1|  New York|192261.83|\n",
      "| 162597.7|     151377.59|      443898.53|California|191792.06|\n",
      "|153441.51|     101145.55|      407934.54|   Florida|191050.39|\n",
      "|144372.41|     118671.85|      383199.62|  New York|182901.99|\n",
      "|142107.34|      91391.77|      366168.42|   Florida|166187.94|\n",
      "+---------+--------------+---------------+----------+---------+\n",
      "only showing top 5 rows\n",
      "\n"
     ]
    }
   ],
   "source": [
    "df.show(5)"
   ]
  },
  {
   "cell_type": "code",
   "execution_count": 10,
   "id": "1ea313e2",
   "metadata": {},
   "outputs": [],
   "source": [
    "# Normal method to read csv file\n",
    "\n",
    "df = sqlc.read.csv('C:/Users/OLA/Documents/Data/1000_Companies.csv', header=True)"
   ]
  },
  {
   "cell_type": "code",
   "execution_count": 11,
   "id": "c9fd167c",
   "metadata": {},
   "outputs": [
    {
     "name": "stdout",
     "output_type": "stream",
     "text": [
      "+---------+--------------+---------------+----------+---------+\n",
      "|R&D Spend|Administration|Marketing Spend|     State|   Profit|\n",
      "+---------+--------------+---------------+----------+---------+\n",
      "| 165349.2|      136897.8|       471784.1|  New York|192261.83|\n",
      "| 162597.7|     151377.59|      443898.53|California|191792.06|\n",
      "|153441.51|     101145.55|      407934.54|   Florida|191050.39|\n",
      "|144372.41|     118671.85|      383199.62|  New York|182901.99|\n",
      "|142107.34|      91391.77|      366168.42|   Florida|166187.94|\n",
      "+---------+--------------+---------------+----------+---------+\n",
      "only showing top 5 rows\n",
      "\n"
     ]
    }
   ],
   "source": [
    "df.show(5)"
   ]
  },
  {
   "cell_type": "code",
   "execution_count": 12,
   "id": "2afd6a0e",
   "metadata": {},
   "outputs": [
    {
     "name": "stdout",
     "output_type": "stream",
     "text": [
      "root\n",
      " |-- R&D Spend: string (nullable = true)\n",
      " |-- Administration: string (nullable = true)\n",
      " |-- Marketing Spend: string (nullable = true)\n",
      " |-- State: string (nullable = true)\n",
      " |-- Profit: string (nullable = true)\n",
      "\n"
     ]
    }
   ],
   "source": [
    "df.printSchema()"
   ]
  },
  {
   "cell_type": "code",
   "execution_count": 13,
   "id": "9b9a737c",
   "metadata": {},
   "outputs": [
    {
     "data": {
      "text/plain": [
       "1000"
      ]
     },
     "execution_count": 13,
     "metadata": {},
     "output_type": "execute_result"
    }
   ],
   "source": [
    "df.count()"
   ]
  },
  {
   "cell_type": "code",
   "execution_count": null,
   "id": "e0a8e8ac",
   "metadata": {},
   "outputs": [],
   "source": [
    "# lenght of columns"
   ]
  },
  {
   "cell_type": "code",
   "execution_count": 14,
   "id": "5dbc1fb3",
   "metadata": {},
   "outputs": [
    {
     "data": {
      "text/plain": [
       "5"
      ]
     },
     "execution_count": 14,
     "metadata": {},
     "output_type": "execute_result"
    }
   ],
   "source": [
    "len(df.columns)"
   ]
  },
  {
   "cell_type": "code",
   "execution_count": 15,
   "id": "8ece2697",
   "metadata": {},
   "outputs": [
    {
     "name": "stdout",
     "output_type": "stream",
     "text": [
      "+-------+------------------+------------------+-----------------+----------+-----------------+\n",
      "|summary|         R&D Spend|    Administration|  Marketing Spend|     State|           Profit|\n",
      "+-------+------------------+------------------+-----------------+----------+-----------------+\n",
      "|  count|              1000|              1000|             1000|      1000|             1000|\n",
      "|   mean|        81668.9272|122963.89761169997|226205.0584188303|      null|119546.1646556102|\n",
      "| stddev|46537.567891489154|12613.927534630999|91578.39354210423|      null|42888.63384847687|\n",
      "|    min|                 0|         101145.55|                0|California|      100404.0021|\n",
      "|    max|             99774|          99814.71|      99267.11183|  New York|         99937.59|\n",
      "+-------+------------------+------------------+-----------------+----------+-----------------+\n",
      "\n"
     ]
    }
   ],
   "source": [
    "df.describe().show()"
   ]
  },
  {
   "cell_type": "code",
   "execution_count": 16,
   "id": "dcac193e",
   "metadata": {},
   "outputs": [
    {
     "name": "stdout",
     "output_type": "stream",
     "text": [
      "+-------+------------------+------------------+\n",
      "|summary|         R&D Spend|    Administration|\n",
      "+-------+------------------+------------------+\n",
      "|  count|              1000|              1000|\n",
      "|   mean|        81668.9272|122963.89761169997|\n",
      "| stddev|46537.567891489154|12613.927534630999|\n",
      "|    min|                 0|         101145.55|\n",
      "|    max|             99774|          99814.71|\n",
      "+-------+------------------+------------------+\n",
      "\n"
     ]
    }
   ],
   "source": [
    "# summary of specific colunm that you want\n",
    "\n",
    "df.describe(['R&D Spend', 'Administration']).show()"
   ]
  },
  {
   "cell_type": "code",
   "execution_count": 27,
   "id": "09c5ac1a",
   "metadata": {},
   "outputs": [
    {
     "data": {
      "text/html": [
       "<div>\n",
       "<style scoped>\n",
       "    .dataframe tbody tr th:only-of-type {\n",
       "        vertical-align: middle;\n",
       "    }\n",
       "\n",
       "    .dataframe tbody tr th {\n",
       "        vertical-align: top;\n",
       "    }\n",
       "\n",
       "    .dataframe thead th {\n",
       "        text-align: right;\n",
       "    }\n",
       "</style>\n",
       "<table border=\"1\" class=\"dataframe\">\n",
       "  <thead>\n",
       "    <tr style=\"text-align: right;\">\n",
       "      <th></th>\n",
       "      <th>R&amp;D Spend</th>\n",
       "      <th>Administration</th>\n",
       "      <th>Marketing Spend</th>\n",
       "      <th>State</th>\n",
       "      <th>Profit</th>\n",
       "    </tr>\n",
       "  </thead>\n",
       "  <tbody>\n",
       "    <tr>\n",
       "      <th>0</th>\n",
       "      <td>165349.2</td>\n",
       "      <td>136897.8</td>\n",
       "      <td>471784.1</td>\n",
       "      <td>New York</td>\n",
       "      <td>192261.83</td>\n",
       "    </tr>\n",
       "    <tr>\n",
       "      <th>1</th>\n",
       "      <td>162597.7</td>\n",
       "      <td>151377.59</td>\n",
       "      <td>443898.53</td>\n",
       "      <td>California</td>\n",
       "      <td>191792.06</td>\n",
       "    </tr>\n",
       "    <tr>\n",
       "      <th>2</th>\n",
       "      <td>153441.51</td>\n",
       "      <td>101145.55</td>\n",
       "      <td>407934.54</td>\n",
       "      <td>Florida</td>\n",
       "      <td>191050.39</td>\n",
       "    </tr>\n",
       "    <tr>\n",
       "      <th>3</th>\n",
       "      <td>144372.41</td>\n",
       "      <td>118671.85</td>\n",
       "      <td>383199.62</td>\n",
       "      <td>New York</td>\n",
       "      <td>182901.99</td>\n",
       "    </tr>\n",
       "    <tr>\n",
       "      <th>4</th>\n",
       "      <td>142107.34</td>\n",
       "      <td>91391.77</td>\n",
       "      <td>366168.42</td>\n",
       "      <td>Florida</td>\n",
       "      <td>166187.94</td>\n",
       "    </tr>\n",
       "    <tr>\n",
       "      <th>...</th>\n",
       "      <td>...</td>\n",
       "      <td>...</td>\n",
       "      <td>...</td>\n",
       "      <td>...</td>\n",
       "      <td>...</td>\n",
       "    </tr>\n",
       "    <tr>\n",
       "      <th>995</th>\n",
       "      <td>54135</td>\n",
       "      <td>118451.999</td>\n",
       "      <td>173232.6695</td>\n",
       "      <td>California</td>\n",
       "      <td>95279.96251</td>\n",
       "    </tr>\n",
       "    <tr>\n",
       "      <th>996</th>\n",
       "      <td>134970</td>\n",
       "      <td>130390.08</td>\n",
       "      <td>329204.0228</td>\n",
       "      <td>California</td>\n",
       "      <td>164336.6055</td>\n",
       "    </tr>\n",
       "    <tr>\n",
       "      <th>997</th>\n",
       "      <td>100275.47</td>\n",
       "      <td>241926.31</td>\n",
       "      <td>227142.82</td>\n",
       "      <td>California</td>\n",
       "      <td>413956.48</td>\n",
       "    </tr>\n",
       "    <tr>\n",
       "      <th>998</th>\n",
       "      <td>128456.23</td>\n",
       "      <td>321652.14</td>\n",
       "      <td>281692.32</td>\n",
       "      <td>California</td>\n",
       "      <td>333962.19</td>\n",
       "    </tr>\n",
       "    <tr>\n",
       "      <th>999</th>\n",
       "      <td>161181.72</td>\n",
       "      <td>270939.86</td>\n",
       "      <td>295442.17</td>\n",
       "      <td>New York</td>\n",
       "      <td>476485.43</td>\n",
       "    </tr>\n",
       "  </tbody>\n",
       "</table>\n",
       "<p>1000 rows × 5 columns</p>\n",
       "</div>"
      ],
      "text/plain": [
       "     R&D Spend Administration Marketing Spend       State       Profit\n",
       "0     165349.2       136897.8        471784.1    New York    192261.83\n",
       "1     162597.7      151377.59       443898.53  California    191792.06\n",
       "2    153441.51      101145.55       407934.54     Florida    191050.39\n",
       "3    144372.41      118671.85       383199.62    New York    182901.99\n",
       "4    142107.34       91391.77       366168.42     Florida    166187.94\n",
       "..         ...            ...             ...         ...          ...\n",
       "995      54135     118451.999     173232.6695  California  95279.96251\n",
       "996     134970      130390.08     329204.0228  California  164336.6055\n",
       "997  100275.47      241926.31       227142.82  California    413956.48\n",
       "998  128456.23      321652.14       281692.32  California    333962.19\n",
       "999  161181.72      270939.86       295442.17    New York    476485.43\n",
       "\n",
       "[1000 rows x 5 columns]"
      ]
     },
     "execution_count": 27,
     "metadata": {},
     "output_type": "execute_result"
    }
   ],
   "source": [
    "# convert data frame to pandas environment\n",
    "\n",
    "df.toPandas()"
   ]
  },
  {
   "cell_type": "markdown",
   "id": "a07afc52",
   "metadata": {},
   "source": [
    "# DS020523"
   ]
  },
  {
   "cell_type": "code",
   "execution_count": 18,
   "id": "9e81ae02",
   "metadata": {},
   "outputs": [
    {
     "name": "stdout",
     "output_type": "stream",
     "text": [
      "+---------+--------------+---------------+-----+------+\n",
      "|R&D Spend|Administration|Marketing Spend|State|Profit|\n",
      "+---------+--------------+---------------+-----+------+\n",
      "+---------+--------------+---------------+-----+------+\n",
      "\n"
     ]
    }
   ],
   "source": [
    "# checking the missing column\n",
    "\n",
    "df.where(df['R&D Spend'].isNull()).show()"
   ]
  },
  {
   "cell_type": "code",
   "execution_count": 23,
   "id": "8e0593b7",
   "metadata": {
    "scrolled": true
   },
   "outputs": [
    {
     "name": "stdout",
     "output_type": "stream",
     "text": [
      "+--------------+---------------+\n",
      "|Administration|Marketing Spend|\n",
      "+--------------+---------------+\n",
      "+--------------+---------------+\n",
      "\n"
     ]
    }
   ],
   "source": [
    "df1 = df['Administration','Marketing Spend']\n",
    "df1.where(df['R&D Spend'].isNull()).show()"
   ]
  },
  {
   "cell_type": "code",
   "execution_count": 25,
   "id": "dc4c1206",
   "metadata": {},
   "outputs": [],
   "source": [
    "dff = sqlc.read.csv('C:/Users/OLA/Documents/Data/Iris.csv', header=True)"
   ]
  },
  {
   "cell_type": "code",
   "execution_count": 26,
   "id": "13ac1a75",
   "metadata": {},
   "outputs": [
    {
     "name": "stdout",
     "output_type": "stream",
     "text": [
      "+---+-------------+------------+-------------+------------+-----------+\n",
      "| Id|SepalLengthCm|SepalWidthCm|PetalLengthCm|PetalWidthCm|    Species|\n",
      "+---+-------------+------------+-------------+------------+-----------+\n",
      "|  1|          5.1|         3.5|          1.4|         0.2|Iris-setosa|\n",
      "|  2|          4.9|         3.0|          1.4|         0.2|Iris-setosa|\n",
      "|  3|          4.7|         3.2|          1.3|         0.2|Iris-setosa|\n",
      "|  4|          4.6|         3.1|          1.5|         0.2|Iris-setosa|\n",
      "|  5|          5.0|         3.6|          1.4|         0.2|Iris-setosa|\n",
      "+---+-------------+------------+-------------+------------+-----------+\n",
      "only showing top 5 rows\n",
      "\n"
     ]
    }
   ],
   "source": [
    "dff.show(5)"
   ]
  },
  {
   "cell_type": "code",
   "execution_count": 27,
   "id": "3220d7d2",
   "metadata": {},
   "outputs": [
    {
     "name": "stdout",
     "output_type": "stream",
     "text": [
      "+---+-------------+------------+-------------+------------+-----------+\n",
      "| Id|SepalLengthCm|SepalWidthCm|PetalLengthCm|PetalWidthCm|    Species|\n",
      "+---+-------------+------------+-------------+------------+-----------+\n",
      "|  1|          5.1|         3.5|          1.4|         0.2|Iris-setosa|\n",
      "|  2|          4.9|           3|          1.4|         0.2|Iris-setosa|\n",
      "|  3|          4.7|         3.2|          1.3|         0.2|Iris-setosa|\n",
      "|  4|         null|         3.1|         null|         0.2|Iris-setosa|\n",
      "|  5|            5|         3.6|          1.4|         0.2|Iris-setosa|\n",
      "+---+-------------+------------+-------------+------------+-----------+\n",
      "only showing top 5 rows\n",
      "\n"
     ]
    }
   ],
   "source": [
    "# How do we attend to missing column: Answer( Either by removing the column(dropna()) or updating the column)\n",
    "\n",
    "\n",
    "dff_null = sqlc.read.csv('C:/Users/OLA/Documents/Data/Iris_null.csv', header=True)\n",
    "dff_null.show(5)"
   ]
  },
  {
   "cell_type": "code",
   "execution_count": 34,
   "id": "125ee0a2",
   "metadata": {},
   "outputs": [
    {
     "name": "stdout",
     "output_type": "stream",
     "text": [
      "+---+-------------+------------+-------------+------------+-----------+\n",
      "| Id|SepalLengthCm|SepalWidthCm|PetalLengthCm|PetalWidthCm|    Species|\n",
      "+---+-------------+------------+-------------+------------+-----------+\n",
      "|  1|          5.1|         3.5|          1.4|         0.2|Iris-setosa|\n",
      "|  2|          4.9|           3|          1.4|         0.2|Iris-setosa|\n",
      "|  3|          4.7|         3.2|          1.3|         0.2|Iris-setosa|\n",
      "|  4|         null|         3.1|         null|         0.2|Iris-setosa|\n",
      "|  5|            5|         3.6|          1.4|         0.2|Iris-setosa|\n",
      "|  6|          5.4|         3.9|          1.7|         0.4|Iris-setosa|\n",
      "|  7|          4.6|         3.4|          1.4|         0.3|Iris-setosa|\n",
      "|  8|            5|         3.4|          1.5|         0.2|Iris-setosa|\n",
      "|  9|          4.4|         2.9|          1.4|         0.2|Iris-setosa|\n",
      "| 10|          4.9|         3.1|          1.5|         0.1|Iris-setosa|\n",
      "| 11|          5.4|         3.7|          1.5|         0.2|Iris-setosa|\n",
      "| 12|          4.8|         3.4|          1.6|         0.2|Iris-setosa|\n",
      "| 13|         null|           3|         null|         0.1|Iris-setosa|\n",
      "| 14|          4.3|           3|          1.1|         0.1|Iris-setosa|\n",
      "| 15|          5.8|           4|          1.2|         0.2|Iris-setosa|\n",
      "| 16|          5.7|         4.4|          1.5|         0.4|Iris-setosa|\n",
      "| 17|          5.4|         3.9|          1.3|         0.4|Iris-setosa|\n",
      "| 18|          5.1|         3.5|          1.4|         0.3|Iris-setosa|\n",
      "| 19|          5.7|         3.8|          1.7|         0.3|Iris-setosa|\n",
      "| 20|          5.1|         3.8|          1.5|         0.3|Iris-setosa|\n",
      "+---+-------------+------------+-------------+------------+-----------+\n",
      "only showing top 20 rows\n",
      "\n"
     ]
    }
   ],
   "source": [
    "dff_null.where(dff_null['SepallengthCm'].isNull())\n",
    "dff_null.show()"
   ]
  },
  {
   "cell_type": "code",
   "execution_count": 37,
   "id": "c385e0d7",
   "metadata": {},
   "outputs": [
    {
     "data": {
      "text/plain": [
       "148"
      ]
     },
     "execution_count": 37,
     "metadata": {},
     "output_type": "execute_result"
    }
   ],
   "source": [
    "dff_null.select('SepalLengthCm').dropna().count()"
   ]
  },
  {
   "cell_type": "code",
   "execution_count": 38,
   "id": "224d01fe",
   "metadata": {},
   "outputs": [
    {
     "name": "stdout",
     "output_type": "stream",
     "text": [
      "+---+-------------+------------+-------------+------------+-------+\n",
      "| Id|SepalLengthCm|SepalWidthCm|PetalLengthCm|PetalWidthCm|Species|\n",
      "+---+-------------+------------+-------------+------------+-------+\n",
      "+---+-------------+------------+-------------+------------+-------+\n",
      "\n"
     ]
    }
   ],
   "source": [
    "dff_null.where(dff_null['Id'].isNull()).show()"
   ]
  },
  {
   "cell_type": "code",
   "execution_count": 39,
   "id": "57af7e91",
   "metadata": {},
   "outputs": [
    {
     "name": "stdout",
     "output_type": "stream",
     "text": [
      "+---+-------------+------------+-------------+------------+-----------+\n",
      "| Id|SepalLengthCm|SepalWidthCm|PetalLengthCm|PetalWidthCm|    Species|\n",
      "+---+-------------+------------+-------------+------------+-----------+\n",
      "|  4|         null|         3.1|         null|         0.2|Iris-setosa|\n",
      "| 13|         null|           3|         null|         0.1|Iris-setosa|\n",
      "+---+-------------+------------+-------------+------------+-----------+\n",
      "\n"
     ]
    }
   ],
   "source": [
    "dff_null.where(dff_null['SepallengthCm'].isNull()).show()"
   ]
  },
  {
   "cell_type": "markdown",
   "id": "9213edd3",
   "metadata": {},
   "source": [
    "# To fill or update the empty columns of the dataframe"
   ]
  },
  {
   "cell_type": "code",
   "execution_count": 42,
   "id": "ef86193e",
   "metadata": {},
   "outputs": [],
   "source": [
    "# First Methods\n",
    "\n",
    "y = dff_null.select('SepallengthCm').fillna('1')"
   ]
  },
  {
   "cell_type": "code",
   "execution_count": 44,
   "id": "3f3fc3fd",
   "metadata": {},
   "outputs": [
    {
     "name": "stdout",
     "output_type": "stream",
     "text": [
      "+-------------+\n",
      "|SepallengthCm|\n",
      "+-------------+\n",
      "|            0|\n",
      "+-------------+\n",
      "\n"
     ]
    }
   ],
   "source": [
    "from pyspark.sql.functions import isnan, when, count, col\n",
    "\n",
    "y.select([count(when(isnan(i) | col(i).isNull(), i)).alias(i) for i in\n",
    "y.columns]).show()"
   ]
  },
  {
   "cell_type": "code",
   "execution_count": 49,
   "id": "e5c22f4c",
   "metadata": {},
   "outputs": [],
   "source": [
    "# Second Method\n",
    "\n",
    "z = dff_null.na.fill({'SepallengthCm': 8.0, 'PetalLengthCm': 0.10})"
   ]
  },
  {
   "cell_type": "code",
   "execution_count": 50,
   "id": "65113b0d",
   "metadata": {},
   "outputs": [
    {
     "name": "stdout",
     "output_type": "stream",
     "text": [
      "+---+-------------+------------+-------------+------------+-------+\n",
      "| Id|SepalLengthCm|SepalWidthCm|PetalLengthCm|PetalWidthCm|Species|\n",
      "+---+-------------+------------+-------------+------------+-------+\n",
      "|  0|            0|           0|            0|           0|      0|\n",
      "+---+-------------+------------+-------------+------------+-------+\n",
      "\n"
     ]
    }
   ],
   "source": [
    "from pyspark.sql.functions import isnan, when, count, col\n",
    "\n",
    "z.select([count(when(isnan(i) | col(i).isNull(), i)).alias(i) for i in\n",
    "z.columns]).show()"
   ]
  },
  {
   "cell_type": "code",
   "execution_count": 51,
   "id": "64663178",
   "metadata": {},
   "outputs": [
    {
     "name": "stdout",
     "output_type": "stream",
     "text": [
      "+---+-------------+------------+-------------+------------+-----------+\n",
      "| Id|SepalLengthCm|SepalWidthCm|PetalLengthCm|PetalWidthCm|    Species|\n",
      "+---+-------------+------------+-------------+------------+-----------+\n",
      "|  1|          5.1|         3.5|          1.4|         0.2|Iris-setosa|\n",
      "|  2|          4.9|           3|          1.4|         0.2|Iris-setosa|\n",
      "|  3|          4.7|         3.2|          1.3|         0.2|Iris-setosa|\n",
      "|  4|          8.0|         3.1|          0.1|         0.2|Iris-setosa|\n",
      "|  5|            5|         3.6|          1.4|         0.2|Iris-setosa|\n",
      "|  6|          5.4|         3.9|          1.7|         0.4|Iris-setosa|\n",
      "|  7|          4.6|         3.4|          1.4|         0.3|Iris-setosa|\n",
      "|  8|            5|         3.4|          1.5|         0.2|Iris-setosa|\n",
      "|  9|          4.4|         2.9|          1.4|         0.2|Iris-setosa|\n",
      "| 10|          4.9|         3.1|          1.5|         0.1|Iris-setosa|\n",
      "| 11|          5.4|         3.7|          1.5|         0.2|Iris-setosa|\n",
      "| 12|          4.8|         3.4|          1.6|         0.2|Iris-setosa|\n",
      "| 13|          8.0|           3|          0.1|         0.1|Iris-setosa|\n",
      "| 14|          4.3|           3|          1.1|         0.1|Iris-setosa|\n",
      "| 15|          5.8|           4|          1.2|         0.2|Iris-setosa|\n",
      "| 16|          5.7|         4.4|          1.5|         0.4|Iris-setosa|\n",
      "| 17|          5.4|         3.9|          1.3|         0.4|Iris-setosa|\n",
      "| 18|          5.1|         3.5|          1.4|         0.3|Iris-setosa|\n",
      "| 19|          5.7|         3.8|          1.7|         0.3|Iris-setosa|\n",
      "| 20|          5.1|         3.8|          1.5|         0.3|Iris-setosa|\n",
      "+---+-------------+------------+-------------+------------+-----------+\n",
      "only showing top 20 rows\n",
      "\n"
     ]
    }
   ],
   "source": [
    "z.show(20)"
   ]
  },
  {
   "cell_type": "markdown",
   "id": "9f734d8c",
   "metadata": {},
   "source": [
    "# Correlation"
   ]
  },
  {
   "cell_type": "code",
   "execution_count": null,
   "id": "9c2978e4",
   "metadata": {},
   "outputs": [],
   "source": []
  }
 ],
 "metadata": {
  "kernelspec": {
   "display_name": "Python 3 (ipykernel)",
   "language": "python",
   "name": "python3"
  },
  "language_info": {
   "codemirror_mode": {
    "name": "ipython",
    "version": 3
   },
   "file_extension": ".py",
   "mimetype": "text/x-python",
   "name": "python",
   "nbconvert_exporter": "python",
   "pygments_lexer": "ipython3",
   "version": "3.9.12"
  },
  "widgets": {
   "application/vnd.jupyter.widget-state+json": {
    "state": {},
    "version_major": 2,
    "version_minor": 0
   }
  }
 },
 "nbformat": 4,
 "nbformat_minor": 5
}
